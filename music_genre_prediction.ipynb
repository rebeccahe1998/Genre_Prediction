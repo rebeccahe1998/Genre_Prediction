{
  "nbformat": 4,
  "nbformat_minor": 0,
  "metadata": {
    "colab": {
      "name": "music_genre_prediction.ipynb",
      "provenance": [],
      "collapsed_sections": [
        "FMhEXriNi75D"
      ],
      "machine_shape": "hm",
      "authorship_tag": "ABX9TyPjIIFhiXw2bu202IbkBok1",
      "include_colab_link": true
    },
    "kernelspec": {
      "name": "python3",
      "display_name": "Python 3"
    },
    "language_info": {
      "name": "python"
    },
    "accelerator": "GPU"
  },
  "cells": [
    {
      "cell_type": "markdown",
      "metadata": {
        "id": "view-in-github",
        "colab_type": "text"
      },
      "source": [
        "<a href=\"https://colab.research.google.com/github/rebeccahe1998/Genre_Prediction/blob/main/music_genre_prediction.ipynb\" target=\"_parent\"><img src=\"https://colab.research.google.com/assets/colab-badge.svg\" alt=\"Open In Colab\"/></a>"
      ]
    },
    {
      "cell_type": "code",
      "metadata": {
        "id": "oYGZV1blYc64"
      },
      "source": [
        "import pandas as pd\n"
      ],
      "execution_count": 183,
      "outputs": []
    },
    {
      "cell_type": "code",
      "metadata": {
        "colab": {
          "base_uri": "https://localhost:8080/",
          "height": 438
        },
        "id": "CxYdSc9fYrX0",
        "outputId": "2de6b32d-66ab-4e0a-add0-0d560e84886c"
      },
      "source": [
        "train = pd.read_csv(\"train.csv\", header=0, index_col=None)\n",
        "train"
      ],
      "execution_count": 184,
      "outputs": [
        {
          "output_type": "execute_result",
          "data": {
            "text/html": [
              "<div>\n",
              "<style scoped>\n",
              "    .dataframe tbody tr th:only-of-type {\n",
              "        vertical-align: middle;\n",
              "    }\n",
              "\n",
              "    .dataframe tbody tr th {\n",
              "        vertical-align: top;\n",
              "    }\n",
              "\n",
              "    .dataframe thead th {\n",
              "        text-align: right;\n",
              "    }\n",
              "</style>\n",
              "<table border=\"1\" class=\"dataframe\">\n",
              "  <thead>\n",
              "    <tr style=\"text-align: right;\">\n",
              "      <th></th>\n",
              "      <th>danceability</th>\n",
              "      <th>energy</th>\n",
              "      <th>key</th>\n",
              "      <th>loudness</th>\n",
              "      <th>mode</th>\n",
              "      <th>speechiness</th>\n",
              "      <th>acousticness</th>\n",
              "      <th>instrumentalness</th>\n",
              "      <th>liveness</th>\n",
              "      <th>valence</th>\n",
              "      <th>tempo</th>\n",
              "      <th>duration_ms</th>\n",
              "      <th>time_signature</th>\n",
              "      <th>genre</th>\n",
              "    </tr>\n",
              "  </thead>\n",
              "  <tbody>\n",
              "    <tr>\n",
              "      <th>0</th>\n",
              "      <td>0.761863</td>\n",
              "      <td>0.975094</td>\n",
              "      <td>7</td>\n",
              "      <td>-7.542542</td>\n",
              "      <td>1</td>\n",
              "      <td>-0.017051</td>\n",
              "      <td>-0.046122</td>\n",
              "      <td>0.809700</td>\n",
              "      <td>0.132809</td>\n",
              "      <td>0.031503</td>\n",
              "      <td>143.830571</td>\n",
              "      <td>369867.93320</td>\n",
              "      <td>4</td>\n",
              "      <td>psytrance</td>\n",
              "    </tr>\n",
              "    <tr>\n",
              "      <th>1</th>\n",
              "      <td>0.473848</td>\n",
              "      <td>0.930957</td>\n",
              "      <td>1</td>\n",
              "      <td>-5.996011</td>\n",
              "      <td>1</td>\n",
              "      <td>0.005192</td>\n",
              "      <td>-0.000086</td>\n",
              "      <td>0.622096</td>\n",
              "      <td>0.523871</td>\n",
              "      <td>0.222850</td>\n",
              "      <td>165.794330</td>\n",
              "      <td>317910.45350</td>\n",
              "      <td>4</td>\n",
              "      <td>dnb</td>\n",
              "    </tr>\n",
              "    <tr>\n",
              "      <th>2</th>\n",
              "      <td>0.672960</td>\n",
              "      <td>0.960843</td>\n",
              "      <td>7</td>\n",
              "      <td>-7.619419</td>\n",
              "      <td>1</td>\n",
              "      <td>0.025662</td>\n",
              "      <td>0.062044</td>\n",
              "      <td>0.514183</td>\n",
              "      <td>0.113112</td>\n",
              "      <td>-0.017526</td>\n",
              "      <td>135.681140</td>\n",
              "      <td>357243.12690</td>\n",
              "      <td>4</td>\n",
              "      <td>psytrance</td>\n",
              "    </tr>\n",
              "    <tr>\n",
              "      <th>3</th>\n",
              "      <td>0.669152</td>\n",
              "      <td>0.743276</td>\n",
              "      <td>6</td>\n",
              "      <td>-6.627121</td>\n",
              "      <td>0</td>\n",
              "      <td>0.064931</td>\n",
              "      <td>0.009660</td>\n",
              "      <td>0.397849</td>\n",
              "      <td>0.414650</td>\n",
              "      <td>0.037380</td>\n",
              "      <td>144.207199</td>\n",
              "      <td>409893.14080</td>\n",
              "      <td>4</td>\n",
              "      <td>trance</td>\n",
              "    </tr>\n",
              "    <tr>\n",
              "      <th>4</th>\n",
              "      <td>0.778987</td>\n",
              "      <td>0.604103</td>\n",
              "      <td>9</td>\n",
              "      <td>-7.864958</td>\n",
              "      <td>1</td>\n",
              "      <td>0.109415</td>\n",
              "      <td>-0.020442</td>\n",
              "      <td>1.010180</td>\n",
              "      <td>0.120606</td>\n",
              "      <td>-0.014750</td>\n",
              "      <td>135.294668</td>\n",
              "      <td>487481.68120</td>\n",
              "      <td>4</td>\n",
              "      <td>techno</td>\n",
              "    </tr>\n",
              "    <tr>\n",
              "      <th>...</th>\n",
              "      <td>...</td>\n",
              "      <td>...</td>\n",
              "      <td>...</td>\n",
              "      <td>...</td>\n",
              "      <td>...</td>\n",
              "      <td>...</td>\n",
              "      <td>...</td>\n",
              "      <td>...</td>\n",
              "      <td>...</td>\n",
              "      <td>...</td>\n",
              "      <td>...</td>\n",
              "      <td>...</td>\n",
              "      <td>...</td>\n",
              "      <td>...</td>\n",
              "    </tr>\n",
              "    <tr>\n",
              "      <th>35954</th>\n",
              "      <td>0.656216</td>\n",
              "      <td>0.448807</td>\n",
              "      <td>8</td>\n",
              "      <td>-12.329690</td>\n",
              "      <td>1</td>\n",
              "      <td>0.063894</td>\n",
              "      <td>0.153623</td>\n",
              "      <td>0.138106</td>\n",
              "      <td>0.062590</td>\n",
              "      <td>0.060258</td>\n",
              "      <td>114.483352</td>\n",
              "      <td>80741.86242</td>\n",
              "      <td>4</td>\n",
              "      <td>Underground Rap</td>\n",
              "    </tr>\n",
              "    <tr>\n",
              "      <th>35955</th>\n",
              "      <td>0.882615</td>\n",
              "      <td>0.663964</td>\n",
              "      <td>6</td>\n",
              "      <td>-8.774789</td>\n",
              "      <td>0</td>\n",
              "      <td>0.242777</td>\n",
              "      <td>0.181880</td>\n",
              "      <td>0.073613</td>\n",
              "      <td>0.088597</td>\n",
              "      <td>0.255773</td>\n",
              "      <td>131.581683</td>\n",
              "      <td>379222.94090</td>\n",
              "      <td>4</td>\n",
              "      <td>other</td>\n",
              "    </tr>\n",
              "    <tr>\n",
              "      <th>35956</th>\n",
              "      <td>0.660423</td>\n",
              "      <td>0.779153</td>\n",
              "      <td>0</td>\n",
              "      <td>-3.703661</td>\n",
              "      <td>1</td>\n",
              "      <td>0.359540</td>\n",
              "      <td>0.298144</td>\n",
              "      <td>0.073090</td>\n",
              "      <td>0.116138</td>\n",
              "      <td>0.519285</td>\n",
              "      <td>104.913715</td>\n",
              "      <td>242815.59340</td>\n",
              "      <td>4</td>\n",
              "      <td>RnB</td>\n",
              "    </tr>\n",
              "    <tr>\n",
              "      <th>35957</th>\n",
              "      <td>0.178196</td>\n",
              "      <td>0.990031</td>\n",
              "      <td>0</td>\n",
              "      <td>-6.099041</td>\n",
              "      <td>1</td>\n",
              "      <td>0.090615</td>\n",
              "      <td>0.027803</td>\n",
              "      <td>1.042920</td>\n",
              "      <td>0.760333</td>\n",
              "      <td>0.226083</td>\n",
              "      <td>140.500232</td>\n",
              "      <td>319213.33520</td>\n",
              "      <td>4</td>\n",
              "      <td>trance</td>\n",
              "    </tr>\n",
              "    <tr>\n",
              "      <th>35958</th>\n",
              "      <td>0.935122</td>\n",
              "      <td>0.385353</td>\n",
              "      <td>1</td>\n",
              "      <td>-7.708137</td>\n",
              "      <td>1</td>\n",
              "      <td>0.112258</td>\n",
              "      <td>-0.035761</td>\n",
              "      <td>0.020947</td>\n",
              "      <td>0.068497</td>\n",
              "      <td>0.102714</td>\n",
              "      <td>143.182026</td>\n",
              "      <td>97463.80486</td>\n",
              "      <td>4</td>\n",
              "      <td>other</td>\n",
              "    </tr>\n",
              "  </tbody>\n",
              "</table>\n",
              "<p>35959 rows × 14 columns</p>\n",
              "</div>"
            ],
            "text/plain": [
              "       danceability    energy  ...  time_signature            genre\n",
              "0          0.761863  0.975094  ...               4        psytrance\n",
              "1          0.473848  0.930957  ...               4              dnb\n",
              "2          0.672960  0.960843  ...               4        psytrance\n",
              "3          0.669152  0.743276  ...               4           trance\n",
              "4          0.778987  0.604103  ...               4           techno\n",
              "...             ...       ...  ...             ...              ...\n",
              "35954      0.656216  0.448807  ...               4  Underground Rap\n",
              "35955      0.882615  0.663964  ...               4            other\n",
              "35956      0.660423  0.779153  ...               4              RnB\n",
              "35957      0.178196  0.990031  ...               4           trance\n",
              "35958      0.935122  0.385353  ...               4            other\n",
              "\n",
              "[35959 rows x 14 columns]"
            ]
          },
          "metadata": {
            "tags": []
          },
          "execution_count": 184
        }
      ]
    },
    {
      "cell_type": "code",
      "metadata": {
        "colab": {
          "base_uri": "https://localhost:8080/",
          "height": 623
        },
        "id": "VMGHZ0aqY_Ij",
        "outputId": "184a7bbd-6b91-4708-a7fa-e03644c043c7"
      },
      "source": [
        "import matplotlib.pyplot as plt\n",
        "import seaborn as sns\n",
        "plt.figure(figsize=(13,10))\n",
        "sns.histplot(train.genre)"
      ],
      "execution_count": null,
      "outputs": [
        {
          "output_type": "execute_result",
          "data": {
            "text/plain": [
              "<matplotlib.axes._subplots.AxesSubplot at 0x7f60cef91fd0>"
            ]
          },
          "metadata": {
            "tags": []
          },
          "execution_count": 3
        },
        {
          "output_type": "display_data",
          "data": {
            "image/png": "[encoded data removed]",
            "text/plain": [
              "<Figure size 936x720 with 1 Axes>"
            ]
          },
          "metadata": {
            "tags": [],
            "needs_background": "light"
          }
        }
      ]
    },
    {
      "cell_type": "code",
      "metadata": {
        "id": "Uhku7cwdbaMN"
      },
      "source": [
        "#! pip install scikit-multilearn\n",
        "#from skmultilearn.problem_transform import BinaryRelevance\n",
        "from sklearn.model_selection import GridSearchCV\n",
        "from sklearn.naive_bayes import GaussianNB"
      ],
      "execution_count": 185,
      "outputs": []
    },
    {
      "cell_type": "code",
      "metadata": {
        "id": "wKP1RoxxcOwG"
      },
      "source": [
        "from sklearn.ensemble import RandomForestClassifier as rf\n",
        "from sklearn.linear_model import LogisticRegression as reg"
      ],
      "execution_count": 186,
      "outputs": []
    },
    {
      "cell_type": "code",
      "metadata": {
        "id": "DjtfLNf-dyAO"
      },
      "source": [
        "y = pd.DataFrame(train.genre)\n",
        "x = train.drop(columns=['genre'], inplace=False)\n"
      ],
      "execution_count": 187,
      "outputs": []
    },
    {
      "cell_type": "code",
      "metadata": {
        "colab": {
          "base_uri": "https://localhost:8080/",
          "height": 438
        },
        "id": "G0QMFI1TgsHQ",
        "outputId": "1dacf79c-72d1-4578-fbaf-282030b5cc28"
      },
      "source": [
        "yy=pd.get_dummies(y)\n",
        "yy\n"
      ],
      "execution_count": 188,
      "outputs": [
        {
          "output_type": "execute_result",
          "data": {
            "text/html": [
              "<div>\n",
              "<style scoped>\n",
              "    .dataframe tbody tr th:only-of-type {\n",
              "        vertical-align: middle;\n",
              "    }\n",
              "\n",
              "    .dataframe tbody tr th {\n",
              "        vertical-align: top;\n",
              "    }\n",
              "\n",
              "    .dataframe thead th {\n",
              "        text-align: right;\n",
              "    }\n",
              "</style>\n",
              "<table border=\"1\" class=\"dataframe\">\n",
              "  <thead>\n",
              "    <tr style=\"text-align: right;\">\n",
              "      <th></th>\n",
              "      <th>genre_Dark Trap</th>\n",
              "      <th>genre_Hiphop</th>\n",
              "      <th>genre_RnB</th>\n",
              "      <th>genre_Trap Metal</th>\n",
              "      <th>genre_Underground Rap</th>\n",
              "      <th>genre_dnb</th>\n",
              "      <th>genre_hardstyle</th>\n",
              "      <th>genre_other</th>\n",
              "      <th>genre_psytrance</th>\n",
              "      <th>genre_techhouse</th>\n",
              "      <th>genre_techno</th>\n",
              "      <th>genre_trance</th>\n",
              "      <th>genre_trap</th>\n",
              "    </tr>\n",
              "  </thead>\n",
              "  <tbody>\n",
              "    <tr>\n",
              "      <th>0</th>\n",
              "      <td>0</td>\n",
              "      <td>0</td>\n",
              "      <td>0</td>\n",
              "      <td>0</td>\n",
              "      <td>0</td>\n",
              "      <td>0</td>\n",
              "      <td>0</td>\n",
              "      <td>0</td>\n",
              "      <td>1</td>\n",
              "      <td>0</td>\n",
              "      <td>0</td>\n",
              "      <td>0</td>\n",
              "      <td>0</td>\n",
              "    </tr>\n",
              "    <tr>\n",
              "      <th>1</th>\n",
              "      <td>0</td>\n",
              "      <td>0</td>\n",
              "      <td>0</td>\n",
              "      <td>0</td>\n",
              "      <td>0</td>\n",
              "      <td>1</td>\n",
              "      <td>0</td>\n",
              "      <td>0</td>\n",
              "      <td>0</td>\n",
              "      <td>0</td>\n",
              "      <td>0</td>\n",
              "      <td>0</td>\n",
              "      <td>0</td>\n",
              "    </tr>\n",
              "    <tr>\n",
              "      <th>2</th>\n",
              "      <td>0</td>\n",
              "      <td>0</td>\n",
              "      <td>0</td>\n",
              "      <td>0</td>\n",
              "      <td>0</td>\n",
              "      <td>0</td>\n",
              "      <td>0</td>\n",
              "      <td>0</td>\n",
              "      <td>1</td>\n",
              "      <td>0</td>\n",
              "      <td>0</td>\n",
              "      <td>0</td>\n",
              "      <td>0</td>\n",
              "    </tr>\n",
              "    <tr>\n",
              "      <th>3</th>\n",
              "      <td>0</td>\n",
              "      <td>0</td>\n",
              "      <td>0</td>\n",
              "      <td>0</td>\n",
              "      <td>0</td>\n",
              "      <td>0</td>\n",
              "      <td>0</td>\n",
              "      <td>0</td>\n",
              "      <td>0</td>\n",
              "      <td>0</td>\n",
              "      <td>0</td>\n",
              "      <td>1</td>\n",
              "      <td>0</td>\n",
              "    </tr>\n",
              "    <tr>\n",
              "      <th>4</th>\n",
              "      <td>0</td>\n",
              "      <td>0</td>\n",
              "      <td>0</td>\n",
              "      <td>0</td>\n",
              "      <td>0</td>\n",
              "      <td>0</td>\n",
              "      <td>0</td>\n",
              "      <td>0</td>\n",
              "      <td>0</td>\n",
              "      <td>0</td>\n",
              "      <td>1</td>\n",
              "      <td>0</td>\n",
              "      <td>0</td>\n",
              "    </tr>\n",
              "    <tr>\n",
              "      <th>...</th>\n",
              "      <td>...</td>\n",
              "      <td>...</td>\n",
              "      <td>...</td>\n",
              "      <td>...</td>\n",
              "      <td>...</td>\n",
              "      <td>...</td>\n",
              "      <td>...</td>\n",
              "      <td>...</td>\n",
              "      <td>...</td>\n",
              "      <td>...</td>\n",
              "      <td>...</td>\n",
              "      <td>...</td>\n",
              "      <td>...</td>\n",
              "    </tr>\n",
              "    <tr>\n",
              "      <th>35954</th>\n",
              "      <td>0</td>\n",
              "      <td>0</td>\n",
              "      <td>0</td>\n",
              "      <td>0</td>\n",
              "      <td>1</td>\n",
              "      <td>0</td>\n",
              "      <td>0</td>\n",
              "      <td>0</td>\n",
              "      <td>0</td>\n",
              "      <td>0</td>\n",
              "      <td>0</td>\n",
              "      <td>0</td>\n",
              "      <td>0</td>\n",
              "    </tr>\n",
              "    <tr>\n",
              "      <th>35955</th>\n",
              "      <td>0</td>\n",
              "      <td>0</td>\n",
              "      <td>0</td>\n",
              "      <td>0</td>\n",
              "      <td>0</td>\n",
              "      <td>0</td>\n",
              "      <td>0</td>\n",
              "      <td>1</td>\n",
              "      <td>0</td>\n",
              "      <td>0</td>\n",
              "      <td>0</td>\n",
              "      <td>0</td>\n",
              "      <td>0</td>\n",
              "    </tr>\n",
              "    <tr>\n",
              "      <th>35956</th>\n",
              "      <td>0</td>\n",
              "      <td>0</td>\n",
              "      <td>1</td>\n",
              "      <td>0</td>\n",
              "      <td>0</td>\n",
              "      <td>0</td>\n",
              "      <td>0</td>\n",
              "      <td>0</td>\n",
              "      <td>0</td>\n",
              "      <td>0</td>\n",
              "      <td>0</td>\n",
              "      <td>0</td>\n",
              "      <td>0</td>\n",
              "    </tr>\n",
              "    <tr>\n",
              "      <th>35957</th>\n",
              "      <td>0</td>\n",
              "      <td>0</td>\n",
              "      <td>0</td>\n",
              "      <td>0</td>\n",
              "      <td>0</td>\n",
              "      <td>0</td>\n",
              "      <td>0</td>\n",
              "      <td>0</td>\n",
              "      <td>0</td>\n",
              "      <td>0</td>\n",
              "      <td>0</td>\n",
              "      <td>1</td>\n",
              "      <td>0</td>\n",
              "    </tr>\n",
              "    <tr>\n",
              "      <th>35958</th>\n",
              "      <td>0</td>\n",
              "      <td>0</td>\n",
              "      <td>0</td>\n",
              "      <td>0</td>\n",
              "      <td>0</td>\n",
              "      <td>0</td>\n",
              "      <td>0</td>\n",
              "      <td>1</td>\n",
              "      <td>0</td>\n",
              "      <td>0</td>\n",
              "      <td>0</td>\n",
              "      <td>0</td>\n",
              "      <td>0</td>\n",
              "    </tr>\n",
              "  </tbody>\n",
              "</table>\n",
              "<p>35959 rows × 13 columns</p>\n",
              "</div>"
            ],
            "text/plain": [
              "       genre_Dark Trap  genre_Hiphop  ...  genre_trance  genre_trap\n",
              "0                    0             0  ...             0           0\n",
              "1                    0             0  ...             0           0\n",
              "2                    0             0  ...             0           0\n",
              "3                    0             0  ...             1           0\n",
              "4                    0             0  ...             0           0\n",
              "...                ...           ...  ...           ...         ...\n",
              "35954                0             0  ...             0           0\n",
              "35955                0             0  ...             0           0\n",
              "35956                0             0  ...             0           0\n",
              "35957                0             0  ...             1           0\n",
              "35958                0             0  ...             0           0\n",
              "\n",
              "[35959 rows x 13 columns]"
            ]
          },
          "metadata": {
            "tags": []
          },
          "execution_count": 188
        }
      ]
    },
    {
      "cell_type": "code",
      "metadata": {
        "id": "Bqlv4U-c-ur2"
      },
      "source": [
        "df = pd.concat([x,yy],axis=1)\n",
        "from sklearn.model_selection import train_test_split\n"
      ],
      "execution_count": null,
      "outputs": []
    },
    {
      "cell_type": "code",
      "metadata": {
        "colab": {
          "base_uri": "https://localhost:8080/",
          "height": 422
        },
        "id": "vLCLhNsUkHCH",
        "outputId": "e3a99fae-a66c-413f-c435-fc6edcb5208b"
      },
      "source": [
        "df.columns = df.columns.str.replace(' ', '_')\n",
        "df"
      ],
      "execution_count": 201,
      "outputs": [
        {
          "output_type": "execute_result",
          "data": {
            "text/html": [
              "<div>\n",
              "<style scoped>\n",
              "    .dataframe tbody tr th:only-of-type {\n",
              "        vertical-align: middle;\n",
              "    }\n",
              "\n",
              "    .dataframe tbody tr th {\n",
              "        vertical-align: top;\n",
              "    }\n",
              "\n",
              "    .dataframe thead th {\n",
              "        text-align: right;\n",
              "    }\n",
              "</style>\n",
              "<table border=\"1\" class=\"dataframe\">\n",
              "  <thead>\n",
              "    <tr style=\"text-align: right;\">\n",
              "      <th></th>\n",
              "      <th>danceability</th>\n",
              "      <th>energy</th>\n",
              "      <th>key</th>\n",
              "      <th>loudness</th>\n",
              "      <th>mode</th>\n",
              "      <th>speechiness</th>\n",
              "      <th>acousticness</th>\n",
              "      <th>instrumentalness</th>\n",
              "      <th>liveness</th>\n",
              "      <th>valence</th>\n",
              "      <th>tempo</th>\n",
              "      <th>duration_ms</th>\n",
              "      <th>time_signature</th>\n",
              "      <th>genre_Dark_Trap</th>\n",
              "      <th>genre_Hiphop</th>\n",
              "      <th>genre_RnB</th>\n",
              "      <th>genre_Trap_Metal</th>\n",
              "      <th>genre_Underground_Rap</th>\n",
              "      <th>genre_dnb</th>\n",
              "      <th>genre_hardstyle</th>\n",
              "      <th>genre_other</th>\n",
              "      <th>genre_psytrance</th>\n",
              "      <th>genre_techhouse</th>\n",
              "      <th>genre_techno</th>\n",
              "      <th>genre_trance</th>\n",
              "      <th>genre_trap</th>\n",
              "    </tr>\n",
              "  </thead>\n",
              "  <tbody>\n",
              "    <tr>\n",
              "      <th>0</th>\n",
              "      <td>0.761863</td>\n",
              "      <td>0.975094</td>\n",
              "      <td>7</td>\n",
              "      <td>-7.542542</td>\n",
              "      <td>1</td>\n",
              "      <td>-0.017051</td>\n",
              "      <td>-0.046122</td>\n",
              "      <td>0.809700</td>\n",
              "      <td>0.132809</td>\n",
              "      <td>0.031503</td>\n",
              "      <td>143.830571</td>\n",
              "      <td>369867.93320</td>\n",
              "      <td>4</td>\n",
              "      <td>0</td>\n",
              "      <td>0</td>\n",
              "      <td>0</td>\n",
              "      <td>0</td>\n",
              "      <td>0</td>\n",
              "      <td>0</td>\n",
              "      <td>0</td>\n",
              "      <td>0</td>\n",
              "      <td>1</td>\n",
              "      <td>0</td>\n",
              "      <td>0</td>\n",
              "      <td>0</td>\n",
              "      <td>0</td>\n",
              "    </tr>\n",
              "    <tr>\n",
              "      <th>1</th>\n",
              "      <td>0.473848</td>\n",
              "      <td>0.930957</td>\n",
              "      <td>1</td>\n",
              "      <td>-5.996011</td>\n",
              "      <td>1</td>\n",
              "      <td>0.005192</td>\n",
              "      <td>-0.000086</td>\n",
              "      <td>0.622096</td>\n",
              "      <td>0.523871</td>\n",
              "      <td>0.222850</td>\n",
              "      <td>165.794330</td>\n",
              "      <td>317910.45350</td>\n",
              "      <td>4</td>\n",
              "      <td>0</td>\n",
              "      <td>0</td>\n",
              "      <td>0</td>\n",
              "      <td>0</td>\n",
              "      <td>0</td>\n",
              "      <td>1</td>\n",
              "      <td>0</td>\n",
              "      <td>0</td>\n",
              "      <td>0</td>\n",
              "      <td>0</td>\n",
              "      <td>0</td>\n",
              "      <td>0</td>\n",
              "      <td>0</td>\n",
              "    </tr>\n",
              "    <tr>\n",
              "      <th>2</th>\n",
              "      <td>0.672960</td>\n",
              "      <td>0.960843</td>\n",
              "      <td>7</td>\n",
              "      <td>-7.619419</td>\n",
              "      <td>1</td>\n",
              "      <td>0.025662</td>\n",
              "      <td>0.062044</td>\n",
              "      <td>0.514183</td>\n",
              "      <td>0.113112</td>\n",
              "      <td>-0.017526</td>\n",
              "      <td>135.681140</td>\n",
              "      <td>357243.12690</td>\n",
              "      <td>4</td>\n",
              "      <td>0</td>\n",
              "      <td>0</td>\n",
              "      <td>0</td>\n",
              "      <td>0</td>\n",
              "      <td>0</td>\n",
              "      <td>0</td>\n",
              "      <td>0</td>\n",
              "      <td>0</td>\n",
              "      <td>1</td>\n",
              "      <td>0</td>\n",
              "      <td>0</td>\n",
              "      <td>0</td>\n",
              "      <td>0</td>\n",
              "    </tr>\n",
              "    <tr>\n",
              "      <th>3</th>\n",
              "      <td>0.669152</td>\n",
              "      <td>0.743276</td>\n",
              "      <td>6</td>\n",
              "      <td>-6.627121</td>\n",
              "      <td>0</td>\n",
              "      <td>0.064931</td>\n",
              "      <td>0.009660</td>\n",
              "      <td>0.397849</td>\n",
              "      <td>0.414650</td>\n",
              "      <td>0.037380</td>\n",
              "      <td>144.207199</td>\n",
              "      <td>409893.14080</td>\n",
              "      <td>4</td>\n",
              "      <td>0</td>\n",
              "      <td>0</td>\n",
              "      <td>0</td>\n",
              "      <td>0</td>\n",
              "      <td>0</td>\n",
              "      <td>0</td>\n",
              "      <td>0</td>\n",
              "      <td>0</td>\n",
              "      <td>0</td>\n",
              "      <td>0</td>\n",
              "      <td>0</td>\n",
              "      <td>1</td>\n",
              "      <td>0</td>\n",
              "    </tr>\n",
              "    <tr>\n",
              "      <th>4</th>\n",
              "      <td>0.778987</td>\n",
              "      <td>0.604103</td>\n",
              "      <td>9</td>\n",
              "      <td>-7.864958</td>\n",
              "      <td>1</td>\n",
              "      <td>0.109415</td>\n",
              "      <td>-0.020442</td>\n",
              "      <td>1.010180</td>\n",
              "      <td>0.120606</td>\n",
              "      <td>-0.014750</td>\n",
              "      <td>135.294668</td>\n",
              "      <td>487481.68120</td>\n",
              "      <td>4</td>\n",
              "      <td>0</td>\n",
              "      <td>0</td>\n",
              "      <td>0</td>\n",
              "      <td>0</td>\n",
              "      <td>0</td>\n",
              "      <td>0</td>\n",
              "      <td>0</td>\n",
              "      <td>0</td>\n",
              "      <td>0</td>\n",
              "      <td>0</td>\n",
              "      <td>1</td>\n",
              "      <td>0</td>\n",
              "      <td>0</td>\n",
              "    </tr>\n",
              "    <tr>\n",
              "      <th>...</th>\n",
              "      <td>...</td>\n",
              "      <td>...</td>\n",
              "      <td>...</td>\n",
              "      <td>...</td>\n",
              "      <td>...</td>\n",
              "      <td>...</td>\n",
              "      <td>...</td>\n",
              "      <td>...</td>\n",
              "      <td>...</td>\n",
              "      <td>...</td>\n",
              "      <td>...</td>\n",
              "      <td>...</td>\n",
              "      <td>...</td>\n",
              "      <td>...</td>\n",
              "      <td>...</td>\n",
              "      <td>...</td>\n",
              "      <td>...</td>\n",
              "      <td>...</td>\n",
              "      <td>...</td>\n",
              "      <td>...</td>\n",
              "      <td>...</td>\n",
              "      <td>...</td>\n",
              "      <td>...</td>\n",
              "      <td>...</td>\n",
              "      <td>...</td>\n",
              "      <td>...</td>\n",
              "    </tr>\n",
              "    <tr>\n",
              "      <th>35954</th>\n",
              "      <td>0.656216</td>\n",
              "      <td>0.448807</td>\n",
              "      <td>8</td>\n",
              "      <td>-12.329690</td>\n",
              "      <td>1</td>\n",
              "      <td>0.063894</td>\n",
              "      <td>0.153623</td>\n",
              "      <td>0.138106</td>\n",
              "      <td>0.062590</td>\n",
              "      <td>0.060258</td>\n",
              "      <td>114.483352</td>\n",
              "      <td>80741.86242</td>\n",
              "      <td>4</td>\n",
              "      <td>0</td>\n",
              "      <td>0</td>\n",
              "      <td>0</td>\n",
              "      <td>0</td>\n",
              "      <td>1</td>\n",
              "      <td>0</td>\n",
              "      <td>0</td>\n",
              "      <td>0</td>\n",
              "      <td>0</td>\n",
              "      <td>0</td>\n",
              "      <td>0</td>\n",
              "      <td>0</td>\n",
              "      <td>0</td>\n",
              "    </tr>\n",
              "    <tr>\n",
              "      <th>35955</th>\n",
              "      <td>0.882615</td>\n",
              "      <td>0.663964</td>\n",
              "      <td>6</td>\n",
              "      <td>-8.774789</td>\n",
              "      <td>0</td>\n",
              "      <td>0.242777</td>\n",
              "      <td>0.181880</td>\n",
              "      <td>0.073613</td>\n",
              "      <td>0.088597</td>\n",
              "      <td>0.255773</td>\n",
              "      <td>131.581683</td>\n",
              "      <td>379222.94090</td>\n",
              "      <td>4</td>\n",
              "      <td>0</td>\n",
              "      <td>0</td>\n",
              "      <td>0</td>\n",
              "      <td>0</td>\n",
              "      <td>0</td>\n",
              "      <td>0</td>\n",
              "      <td>0</td>\n",
              "      <td>1</td>\n",
              "      <td>0</td>\n",
              "      <td>0</td>\n",
              "      <td>0</td>\n",
              "      <td>0</td>\n",
              "      <td>0</td>\n",
              "    </tr>\n",
              "    <tr>\n",
              "      <th>35956</th>\n",
              "      <td>0.660423</td>\n",
              "      <td>0.779153</td>\n",
              "      <td>0</td>\n",
              "      <td>-3.703661</td>\n",
              "      <td>1</td>\n",
              "      <td>0.359540</td>\n",
              "      <td>0.298144</td>\n",
              "      <td>0.073090</td>\n",
              "      <td>0.116138</td>\n",
              "      <td>0.519285</td>\n",
              "      <td>104.913715</td>\n",
              "      <td>242815.59340</td>\n",
              "      <td>4</td>\n",
              "      <td>0</td>\n",
              "      <td>0</td>\n",
              "      <td>1</td>\n",
              "      <td>0</td>\n",
              "      <td>0</td>\n",
              "      <td>0</td>\n",
              "      <td>0</td>\n",
              "      <td>0</td>\n",
              "      <td>0</td>\n",
              "      <td>0</td>\n",
              "      <td>0</td>\n",
              "      <td>0</td>\n",
              "      <td>0</td>\n",
              "    </tr>\n",
              "    <tr>\n",
              "      <th>35957</th>\n",
              "      <td>0.178196</td>\n",
              "      <td>0.990031</td>\n",
              "      <td>0</td>\n",
              "      <td>-6.099041</td>\n",
              "      <td>1</td>\n",
              "      <td>0.090615</td>\n",
              "      <td>0.027803</td>\n",
              "      <td>1.042920</td>\n",
              "      <td>0.760333</td>\n",
              "      <td>0.226083</td>\n",
              "      <td>140.500232</td>\n",
              "      <td>319213.33520</td>\n",
              "      <td>4</td>\n",
              "      <td>0</td>\n",
              "      <td>0</td>\n",
              "      <td>0</td>\n",
              "      <td>0</td>\n",
              "      <td>0</td>\n",
              "      <td>0</td>\n",
              "      <td>0</td>\n",
              "      <td>0</td>\n",
              "      <td>0</td>\n",
              "      <td>0</td>\n",
              "      <td>0</td>\n",
              "      <td>1</td>\n",
              "      <td>0</td>\n",
              "    </tr>\n",
              "    <tr>\n",
              "      <th>35958</th>\n",
              "      <td>0.935122</td>\n",
              "      <td>0.385353</td>\n",
              "      <td>1</td>\n",
              "      <td>-7.708137</td>\n",
              "      <td>1</td>\n",
              "      <td>0.112258</td>\n",
              "      <td>-0.035761</td>\n",
              "      <td>0.020947</td>\n",
              "      <td>0.068497</td>\n",
              "      <td>0.102714</td>\n",
              "      <td>143.182026</td>\n",
              "      <td>97463.80486</td>\n",
              "      <td>4</td>\n",
              "      <td>0</td>\n",
              "      <td>0</td>\n",
              "      <td>0</td>\n",
              "      <td>0</td>\n",
              "      <td>0</td>\n",
              "      <td>0</td>\n",
              "      <td>0</td>\n",
              "      <td>1</td>\n",
              "      <td>0</td>\n",
              "      <td>0</td>\n",
              "      <td>0</td>\n",
              "      <td>0</td>\n",
              "      <td>0</td>\n",
              "    </tr>\n",
              "  </tbody>\n",
              "</table>\n",
              "<p>35959 rows × 26 columns</p>\n",
              "</div>"
            ],
            "text/plain": [
              "       danceability    energy  key  ...  genre_techno  genre_trance  genre_trap\n",
              "0          0.761863  0.975094    7  ...             0             0           0\n",
              "1          0.473848  0.930957    1  ...             0             0           0\n",
              "2          0.672960  0.960843    7  ...             0             0           0\n",
              "3          0.669152  0.743276    6  ...             0             1           0\n",
              "4          0.778987  0.604103    9  ...             1             0           0\n",
              "...             ...       ...  ...  ...           ...           ...         ...\n",
              "35954      0.656216  0.448807    8  ...             0             0           0\n",
              "35955      0.882615  0.663964    6  ...             0             0           0\n",
              "35956      0.660423  0.779153    0  ...             0             0           0\n",
              "35957      0.178196  0.990031    0  ...             0             1           0\n",
              "35958      0.935122  0.385353    1  ...             0             0           0\n",
              "\n",
              "[35959 rows x 26 columns]"
            ]
          },
          "metadata": {
            "tags": []
          },
          "execution_count": 201
        }
      ]
    },
    {
      "cell_type": "code",
      "metadata": {
        "id": "pL7TZOFX_Pan"
      },
      "source": [
        "train, test = train_test_split(df, random_state=42, test_size=0.30, shuffle=True)\n",
        "x_train = train.iloc[0:,0:x.shape[1]]\n"
      ],
      "execution_count": null,
      "outputs": []
    },
    {
      "cell_type": "code",
      "metadata": {
        "id": "Eab9sRd9_4OQ"
      },
      "source": [
        "y_train = train.iloc[0:,x.shape[1]:]\n"
      ],
      "execution_count": null,
      "outputs": []
    },
    {
      "cell_type": "code",
      "metadata": {
        "id": "iDSOPEkfAHJI"
      },
      "source": [
        "x_test = test.iloc[0:,0:x.shape[1]]\n",
        "y_test = test.iloc[0:,x.shape[1]:]"
      ],
      "execution_count": 204,
      "outputs": []
    },
    {
      "cell_type": "code",
      "metadata": {
        "colab": {
          "base_uri": "https://localhost:8080/",
          "height": 422
        },
        "id": "n914g3PcjAyo",
        "outputId": "fcce9ea3-a503-4d18-8161-3dd4fbc1a54e"
      },
      "source": [
        "y_test"
      ],
      "execution_count": 205,
      "outputs": [
        {
          "output_type": "execute_result",
          "data": {
            "text/html": [
              "<div>\n",
              "<style scoped>\n",
              "    .dataframe tbody tr th:only-of-type {\n",
              "        vertical-align: middle;\n",
              "    }\n",
              "\n",
              "    .dataframe tbody tr th {\n",
              "        vertical-align: top;\n",
              "    }\n",
              "\n",
              "    .dataframe thead th {\n",
              "        text-align: right;\n",
              "    }\n",
              "</style>\n",
              "<table border=\"1\" class=\"dataframe\">\n",
              "  <thead>\n",
              "    <tr style=\"text-align: right;\">\n",
              "      <th></th>\n",
              "      <th>genre_Dark_Trap</th>\n",
              "      <th>genre_Hiphop</th>\n",
              "      <th>genre_RnB</th>\n",
              "      <th>genre_Trap_Metal</th>\n",
              "      <th>genre_Underground_Rap</th>\n",
              "      <th>genre_dnb</th>\n",
              "      <th>genre_hardstyle</th>\n",
              "      <th>genre_other</th>\n",
              "      <th>genre_psytrance</th>\n",
              "      <th>genre_techhouse</th>\n",
              "      <th>genre_techno</th>\n",
              "      <th>genre_trance</th>\n",
              "      <th>genre_trap</th>\n",
              "    </tr>\n",
              "  </thead>\n",
              "  <tbody>\n",
              "    <tr>\n",
              "      <th>27297</th>\n",
              "      <td>0</td>\n",
              "      <td>0</td>\n",
              "      <td>0</td>\n",
              "      <td>0</td>\n",
              "      <td>0</td>\n",
              "      <td>0</td>\n",
              "      <td>0</td>\n",
              "      <td>0</td>\n",
              "      <td>0</td>\n",
              "      <td>0</td>\n",
              "      <td>1</td>\n",
              "      <td>0</td>\n",
              "      <td>0</td>\n",
              "    </tr>\n",
              "    <tr>\n",
              "      <th>2969</th>\n",
              "      <td>0</td>\n",
              "      <td>0</td>\n",
              "      <td>1</td>\n",
              "      <td>0</td>\n",
              "      <td>0</td>\n",
              "      <td>0</td>\n",
              "      <td>0</td>\n",
              "      <td>0</td>\n",
              "      <td>0</td>\n",
              "      <td>0</td>\n",
              "      <td>0</td>\n",
              "      <td>0</td>\n",
              "      <td>0</td>\n",
              "    </tr>\n",
              "    <tr>\n",
              "      <th>3578</th>\n",
              "      <td>0</td>\n",
              "      <td>0</td>\n",
              "      <td>0</td>\n",
              "      <td>0</td>\n",
              "      <td>0</td>\n",
              "      <td>0</td>\n",
              "      <td>1</td>\n",
              "      <td>0</td>\n",
              "      <td>0</td>\n",
              "      <td>0</td>\n",
              "      <td>0</td>\n",
              "      <td>0</td>\n",
              "      <td>0</td>\n",
              "    </tr>\n",
              "    <tr>\n",
              "      <th>35496</th>\n",
              "      <td>0</td>\n",
              "      <td>0</td>\n",
              "      <td>0</td>\n",
              "      <td>0</td>\n",
              "      <td>0</td>\n",
              "      <td>0</td>\n",
              "      <td>1</td>\n",
              "      <td>0</td>\n",
              "      <td>0</td>\n",
              "      <td>0</td>\n",
              "      <td>0</td>\n",
              "      <td>0</td>\n",
              "      <td>0</td>\n",
              "    </tr>\n",
              "    <tr>\n",
              "      <th>7708</th>\n",
              "      <td>1</td>\n",
              "      <td>0</td>\n",
              "      <td>0</td>\n",
              "      <td>0</td>\n",
              "      <td>0</td>\n",
              "      <td>0</td>\n",
              "      <td>0</td>\n",
              "      <td>0</td>\n",
              "      <td>0</td>\n",
              "      <td>0</td>\n",
              "      <td>0</td>\n",
              "      <td>0</td>\n",
              "      <td>0</td>\n",
              "    </tr>\n",
              "    <tr>\n",
              "      <th>...</th>\n",
              "      <td>...</td>\n",
              "      <td>...</td>\n",
              "      <td>...</td>\n",
              "      <td>...</td>\n",
              "      <td>...</td>\n",
              "      <td>...</td>\n",
              "      <td>...</td>\n",
              "      <td>...</td>\n",
              "      <td>...</td>\n",
              "      <td>...</td>\n",
              "      <td>...</td>\n",
              "      <td>...</td>\n",
              "      <td>...</td>\n",
              "    </tr>\n",
              "    <tr>\n",
              "      <th>27316</th>\n",
              "      <td>0</td>\n",
              "      <td>0</td>\n",
              "      <td>0</td>\n",
              "      <td>0</td>\n",
              "      <td>0</td>\n",
              "      <td>0</td>\n",
              "      <td>0</td>\n",
              "      <td>0</td>\n",
              "      <td>0</td>\n",
              "      <td>0</td>\n",
              "      <td>0</td>\n",
              "      <td>1</td>\n",
              "      <td>0</td>\n",
              "    </tr>\n",
              "    <tr>\n",
              "      <th>27917</th>\n",
              "      <td>0</td>\n",
              "      <td>0</td>\n",
              "      <td>0</td>\n",
              "      <td>0</td>\n",
              "      <td>0</td>\n",
              "      <td>0</td>\n",
              "      <td>1</td>\n",
              "      <td>0</td>\n",
              "      <td>0</td>\n",
              "      <td>0</td>\n",
              "      <td>0</td>\n",
              "      <td>0</td>\n",
              "      <td>0</td>\n",
              "    </tr>\n",
              "    <tr>\n",
              "      <th>28882</th>\n",
              "      <td>0</td>\n",
              "      <td>0</td>\n",
              "      <td>0</td>\n",
              "      <td>0</td>\n",
              "      <td>0</td>\n",
              "      <td>0</td>\n",
              "      <td>0</td>\n",
              "      <td>0</td>\n",
              "      <td>0</td>\n",
              "      <td>1</td>\n",
              "      <td>0</td>\n",
              "      <td>0</td>\n",
              "      <td>0</td>\n",
              "    </tr>\n",
              "    <tr>\n",
              "      <th>31014</th>\n",
              "      <td>0</td>\n",
              "      <td>0</td>\n",
              "      <td>0</td>\n",
              "      <td>0</td>\n",
              "      <td>0</td>\n",
              "      <td>0</td>\n",
              "      <td>0</td>\n",
              "      <td>1</td>\n",
              "      <td>0</td>\n",
              "      <td>0</td>\n",
              "      <td>0</td>\n",
              "      <td>0</td>\n",
              "      <td>0</td>\n",
              "    </tr>\n",
              "    <tr>\n",
              "      <th>10122</th>\n",
              "      <td>0</td>\n",
              "      <td>0</td>\n",
              "      <td>0</td>\n",
              "      <td>0</td>\n",
              "      <td>1</td>\n",
              "      <td>0</td>\n",
              "      <td>0</td>\n",
              "      <td>0</td>\n",
              "      <td>0</td>\n",
              "      <td>0</td>\n",
              "      <td>0</td>\n",
              "      <td>0</td>\n",
              "      <td>0</td>\n",
              "    </tr>\n",
              "  </tbody>\n",
              "</table>\n",
              "<p>10788 rows × 13 columns</p>\n",
              "</div>"
            ],
            "text/plain": [
              "       genre_Dark_Trap  genre_Hiphop  ...  genre_trance  genre_trap\n",
              "27297                0             0  ...             0           0\n",
              "2969                 0             0  ...             0           0\n",
              "3578                 0             0  ...             0           0\n",
              "35496                0             0  ...             0           0\n",
              "7708                 1             0  ...             0           0\n",
              "...                ...           ...  ...           ...         ...\n",
              "27316                0             0  ...             1           0\n",
              "27917                0             0  ...             0           0\n",
              "28882                0             0  ...             0           0\n",
              "31014                0             0  ...             0           0\n",
              "10122                0             0  ...             0           0\n",
              "\n",
              "[10788 rows x 13 columns]"
            ]
          },
          "metadata": {
            "tags": []
          },
          "execution_count": 205
        }
      ]
    },
    {
      "cell_type": "markdown",
      "metadata": {
        "id": "YC-IV3QAJ52Z"
      },
      "source": [
        "# first label\n",
        "\n",
        "---\n",
        "\n"
      ]
    },
    {
      "cell_type": "code",
      "metadata": {
        "id": "of2aHRdFjA1M"
      },
      "source": [
        "from sklearn.linear_model import LogisticRegression\n",
        "from sklearn.pipeline import Pipeline\n",
        "from sklearn.metrics import accuracy_score, roc_auc_score\n",
        "from sklearn.multiclass import OneVsRestClassifier\n",
        "# Using pipeline for applying logistic regression and one vs rest classifier\n",
        "\n",
        "rfc = rf(n_estimators=279, max_depth=4,n_jobs=-1,verbose=False)\n",
        "for category in y_test.columns:\n",
        "    print('**Processing {} comments...**'.format(category))\n",
        "    \n",
        "    # Training logistic regression model on train data\n",
        "    rfc.fit(x_train,y_train[category])\n",
        "    \n",
        "    # calculating test accuracy\n",
        "    prediction = rfc.predict(x_test)\n",
        "    print('Test accuracy is {}'.format(roc_auc_score(y_test[category], prediction)))\n",
        "    print(\"\\n\")"
      ],
      "execution_count": null,
      "outputs": []
    },
    {
      "cell_type": "code",
      "metadata": {
        "colab": {
          "base_uri": "https://localhost:8080/"
        },
        "id": "ROYATKz_lyXQ",
        "outputId": "f15310da-f155-4036-dcff-fcc0fd7c24e0"
      },
      "source": [
        "from sklearn.ensemble import RandomForestClassifier\n",
        "from sklearn.ensemble import GradientBoostingClassifier\n",
        "# predict the first catogory\n",
        "params = {'n_estimators':[280,300],'max_depth':[40,45,50]}\n",
        "rf = RandomForestClassifier(random_state=42)\n",
        "rf_grid = GridSearchCV(estimator=rf, param_grid=params, cv=3, n_jobs=-1)\n",
        "rf_grid.fit(x_train,y_train.iloc[:,0])\n",
        "print(rf_grid.best_params_)\n"
      ],
      "execution_count": 272,
      "outputs": [
        {
          "output_type": "stream",
          "text": [
            "{'max_depth': 45, 'n_estimators': 300}\n"
          ],
          "name": "stdout"
        }
      ]
    },
    {
      "cell_type": "code",
      "metadata": {
        "colab": {
          "base_uri": "https://localhost:8080/"
        },
        "id": "4g9hSaH7pEna",
        "outputId": "d72c37d5-8102-4283-fec4-b310e8a63a82"
      },
      "source": [
        "pred0 = rf_grid.predict_proba(x_test.values)\n",
        "pred_0 = [row[1] for row in pred0]\n",
        "roc_auc_score(y_test.iloc[:,0],pred_0)"
      ],
      "execution_count": 273,
      "outputs": [
        {
          "output_type": "execute_result",
          "data": {
            "text/plain": [
              "0.8411420956231015"
            ]
          },
          "metadata": {
            "tags": []
          },
          "execution_count": 273
        }
      ]
    },
    {
      "cell_type": "code",
      "metadata": {
        "colab": {
          "base_uri": "https://localhost:8080/"
        },
        "id": "9tHPd4trIse6",
        "outputId": "22394e9a-5b54-4819-9371-1ec5c633cf91"
      },
      "source": [
        "p0 = rf_grid.predict(x_test.values)\n",
        "accuracy_score(y_test.iloc[:,0], p0)"
      ],
      "execution_count": 275,
      "outputs": [
        {
          "output_type": "execute_result",
          "data": {
            "text/plain": [
              "0.9043381535038932"
            ]
          },
          "metadata": {
            "tags": []
          },
          "execution_count": 275
        }
      ]
    },
    {
      "cell_type": "markdown",
      "metadata": {
        "id": "YKsR_K9OIswQ"
      },
      "source": [
        "# second label\n",
        "\n",
        "\n",
        "---\n",
        "\n"
      ]
    },
    {
      "cell_type": "code",
      "metadata": {
        "colab": {
          "base_uri": "https://localhost:8080/"
        },
        "id": "x8M5pTkEIfHG",
        "outputId": "b538202d-4aa9-4328-fc28-ac778ee82af2"
      },
      "source": [
        "params = {'n_estimators':[225,250,270],'max_depth':[30,45,50]}\n",
        "rf = RandomForestClassifier(random_state=42)\n",
        "rf_grid = GridSearchCV(estimator=rf, param_grid=params, cv=3, n_jobs=-1)\n",
        "rf_grid.fit(x_train,y_train.iloc[:,1]) # change this for different label\n",
        "print(rf_grid.best_params_)\n",
        "pred1 = rf_grid.predict_proba(x_test.values.tolist())\n",
        "pred_1 = [row[1] for row in pred1]\n"
      ],
      "execution_count": 276,
      "outputs": [
        {
          "output_type": "stream",
          "text": [
            "{'max_depth': 30, 'n_estimators': 225}\n"
          ],
          "name": "stdout"
        }
      ]
    },
    {
      "cell_type": "code",
      "metadata": {
        "colab": {
          "base_uri": "https://localhost:8080/"
        },
        "id": "hdvl12s2jA5_",
        "outputId": "87a03bc6-f47d-4747-8176-6fe74eae34b2"
      },
      "source": [
        "print(roc_auc_score(y_test.iloc[:,1],pred_1)) # change this for different label\n",
        "p1 = rf_grid.predict(x_test.values)\n",
        "print(accuracy_score(y_test.iloc[:,1], p1))  # change this for different label"
      ],
      "execution_count": 277,
      "outputs": [
        {
          "output_type": "stream",
          "text": [
            "0.8787234171366487\n",
            "0.9350203930292919\n"
          ],
          "name": "stdout"
        }
      ]
    },
    {
      "cell_type": "markdown",
      "metadata": {
        "id": "PyL4CU15O8AF"
      },
      "source": [
        "# 3rd\n",
        "\n",
        "\n",
        "---\n",
        "\n"
      ]
    },
    {
      "cell_type": "code",
      "metadata": {
        "colab": {
          "base_uri": "https://localhost:8080/"
        },
        "id": "XYVYTqP5M4L9",
        "outputId": "f392a02b-b282-47d0-a88a-9f64816dcef3"
      },
      "source": [
        "params = {'n_estimators':[225,250,270],'max_depth':[30,45,50]}\n",
        "rf = RandomForestClassifier(random_state=42)\n",
        "rf_grid = GridSearchCV(estimator=rf, param_grid=params, cv=3, n_jobs=-1)\n",
        "rf_grid.fit(x_train,y_train.iloc[:,2]) # change this for different label\n",
        "print(rf_grid.best_params_)\n",
        "pred2 = rf_grid.predict_proba(x_test.values.tolist())\n",
        "pred_2 = [row[1] for row in pred2]\n"
      ],
      "execution_count": 278,
      "outputs": [
        {
          "output_type": "stream",
          "text": [
            "{'max_depth': 45, 'n_estimators': 270}\n"
          ],
          "name": "stdout"
        }
      ]
    },
    {
      "cell_type": "code",
      "metadata": {
        "colab": {
          "base_uri": "https://localhost:8080/"
        },
        "id": "BatnwFT6jA-5",
        "outputId": "3074fa9b-027d-4212-956a-6edece705a14"
      },
      "source": [
        "print(roc_auc_score(y_test.iloc[:,2],pred_2)) # change this for different label\n",
        "p2 = rf_grid.predict(x_test.values)\n",
        "print(accuracy_score(y_test.iloc[:,2], p2))  # change this for different label"
      ],
      "execution_count": 279,
      "outputs": [
        {
          "output_type": "stream",
          "text": [
            "0.8761554931970096\n",
            "0.9517982944011865\n"
          ],
          "name": "stdout"
        }
      ]
    },
    {
      "cell_type": "code",
      "metadata": {
        "id": "azh5qBEOU3oT"
      },
      "source": [
        ""
      ],
      "execution_count": null,
      "outputs": []
    },
    {
      "cell_type": "markdown",
      "metadata": {
        "id": "M2vd7WTaU4T1"
      },
      "source": [
        "# 4 label, index=3"
      ]
    },
    {
      "cell_type": "code",
      "metadata": {
        "colab": {
          "base_uri": "https://localhost:8080/"
        },
        "id": "WpToWVTUU3qn",
        "outputId": "932d69e7-f031-4c34-fb1e-a768540378d2"
      },
      "source": [
        "params = {'n_estimators':[225,250,270],'max_depth':[30,45,50]}\n",
        "rf = RandomForestClassifier(random_state=42)\n",
        "rf_grid = GridSearchCV(estimator=rf, param_grid=params, cv=3, n_jobs=-1)\n",
        "rf_grid.fit(x_train,y_train.iloc[:,3]) # change this for different label\n",
        "print(rf_grid.best_params_)\n",
        "pred3 = rf_grid.predict_proba(x_test.values.tolist())\n",
        "pred_3 = [row[1] for row in pred3]"
      ],
      "execution_count": 286,
      "outputs": [
        {
          "output_type": "stream",
          "text": [
            "{'max_depth': 45, 'n_estimators': 225}\n"
          ],
          "name": "stdout"
        }
      ]
    },
    {
      "cell_type": "code",
      "metadata": {
        "colab": {
          "base_uri": "https://localhost:8080/"
        },
        "id": "0bqoGfhaU3s1",
        "outputId": "62e781fd-2fcd-43b2-99ef-1867a2c783f9"
      },
      "source": [
        "print(roc_auc_score(y_test.iloc[:,3],pred_3)) # change this for different label\n",
        "p3 = rf_grid.predict(x_test.values)\n",
        "print(accuracy_score(y_test.iloc[:,3], p3))  # change this for different label"
      ],
      "execution_count": 287,
      "outputs": [
        {
          "output_type": "stream",
          "text": [
            "0.8637031778510877\n",
            "0.9513348164627363\n"
          ],
          "name": "stdout"
        }
      ]
    },
    {
      "cell_type": "markdown",
      "metadata": {
        "id": "DTJZoaqJWy0j"
      },
      "source": [
        "# label 5, index4"
      ]
    },
    {
      "cell_type": "code",
      "metadata": {
        "colab": {
          "base_uri": "https://localhost:8080/"
        },
        "id": "pxt1-0HXU3u_",
        "outputId": "afe65ff0-3de1-4c94-f33c-df892385f11a"
      },
      "source": [
        "params = {'n_estimators':[225,250,400],'max_depth':[20,30,70]}\n",
        "rf = RandomForestClassifier(random_state=42)\n",
        "rf_grid = GridSearchCV(estimator=rf, param_grid=params, cv=3, n_jobs=-1)\n",
        "rf_grid.fit(x_train,y_train.iloc[:,4]) # change this for different label\n",
        "print(rf_grid.best_params_)\n",
        "pred4 = rf_grid.predict_proba(x_test.values.tolist())\n",
        "pred_4 = [row[1] for row in pred4]\n",
        "print(roc_auc_score(y_test.iloc[:,4],pred_4)) # change this for different label\n",
        "p4 = rf_grid.predict(x_test.values)\n",
        "print(accuracy_score(y_test.iloc[:,4], p4))  # change this for different label"
      ],
      "execution_count": 289,
      "outputs": [
        {
          "output_type": "stream",
          "text": [
            "{'max_depth': 30, 'n_estimators': 250}\n",
            "0.8714648669738407\n",
            "0.8619762699295513\n"
          ],
          "name": "stdout"
        }
      ]
    },
    {
      "cell_type": "markdown",
      "metadata": {
        "id": "Qi4sPhusYNVY"
      },
      "source": [
        "# label 6, index5"
      ]
    },
    {
      "cell_type": "code",
      "metadata": {
        "colab": {
          "base_uri": "https://localhost:8080/"
        },
        "id": "nYxpxqnxU3xX",
        "outputId": "6fa6aa1d-a0c7-4fb8-e2f3-48c3e8796697"
      },
      "source": [
        "params = {'n_estimators':[200,250,300],'max_depth':[20,35,40,50,70]}\n",
        "rf = RandomForestClassifier(random_state=42)\n",
        "rf_grid = GridSearchCV(estimator=rf, param_grid=params, cv=3, n_jobs=-1)\n",
        "rf_grid.fit(x_train,y_train.iloc[:,5]) # change this for different label\n",
        "print(rf_grid.best_params_)\n",
        "pred5 = rf_grid.predict_proba(x_test.values.tolist())\n",
        "pred_5 = [row[1] for row in pred5]\n",
        "print(roc_auc_score(y_test.iloc[:,5],pred_5)) # change this for different label\n",
        "p5 = rf_grid.predict(x_test.values)\n",
        "print(accuracy_score(y_test.iloc[:,5], p5))  # change this for different label"
      ],
      "execution_count": 290,
      "outputs": [
        {
          "output_type": "stream",
          "text": [
            "{'max_depth': 20, 'n_estimators': 200}\n",
            "0.9884839531244068\n",
            "0.9777530589543938\n"
          ],
          "name": "stdout"
        }
      ]
    },
    {
      "cell_type": "markdown",
      "metadata": {
        "id": "N2dRFwYkZJ_l"
      },
      "source": [
        "# label 7. index 6"
      ]
    },
    {
      "cell_type": "code",
      "metadata": {
        "colab": {
          "base_uri": "https://localhost:8080/"
        },
        "id": "i_p9LSWwU3zm",
        "outputId": "77f6b63c-1896-451f-a70e-06918333191f"
      },
      "source": [
        "params = {'n_estimators':[200,250,300],'max_depth':[20,35,40,50,70]}\n",
        "rf = RandomForestClassifier(random_state=42)\n",
        "rf_grid = GridSearchCV(estimator=rf, param_grid=params, cv=3, n_jobs=-1)\n",
        "rf_grid.fit(x_train,y_train.iloc[:,6]) # change this for different label\n",
        "print(rf_grid.best_params_)\n",
        "pred6 = rf_grid.predict_proba(x_test.values.tolist())\n",
        "pred_6 = [row[1] for row in pred6]\n",
        "print(roc_auc_score(y_test.iloc[:,6],pred_6)) # change this for different label\n",
        "p6 = rf_grid.predict(x_test.values)\n",
        "print(accuracy_score(y_test.iloc[:,6], p6))  # change this for different label"
      ],
      "execution_count": 291,
      "outputs": [
        {
          "output_type": "stream",
          "text": [
            "{'max_depth': 35, 'n_estimators': 200}\n",
            "0.9592932641372004\n",
            "0.9506859473489062\n"
          ],
          "name": "stdout"
        }
      ]
    },
    {
      "cell_type": "markdown",
      "metadata": {
        "id": "6FIisGjCZ8Gq"
      },
      "source": [
        "# label8 id7"
      ]
    },
    {
      "cell_type": "code",
      "metadata": {
        "colab": {
          "base_uri": "https://localhost:8080/"
        },
        "id": "exh24V_kZ-pp",
        "outputId": "be28c588-d129-4182-fdf7-ee0b78ab4b98"
      },
      "source": [
        "params = {'n_estimators':[200,250,300],'max_depth':[20,35,40,50,70]}\n",
        "rf = RandomForestClassifier(random_state=42)\n",
        "rf_grid = GridSearchCV(estimator=rf, param_grid=params, cv=3, n_jobs=-1)\n",
        "rf_grid.fit(x_train,y_train.iloc[:,7]) # change this for different label\n",
        "print(rf_grid.best_params_)\n",
        "pred7 = rf_grid.predict_proba(x_test.values.tolist())\n",
        "pred_7 = [row[1] for row in pred7]\n",
        "print(roc_auc_score(y_test.iloc[:,7],pred_7)) # change this for different label\n",
        "p7 = rf_grid.predict(x_test.values)\n",
        "print(accuracy_score(y_test.iloc[:,7], p7))  # change this for different label"
      ],
      "execution_count": 292,
      "outputs": [
        {
          "output_type": "stream",
          "text": [
            "{'max_depth': 35, 'n_estimators': 300}\n",
            "0.8690771232782876\n",
            "0.9218576195773082\n"
          ],
          "name": "stdout"
        }
      ]
    },
    {
      "cell_type": "markdown",
      "metadata": {
        "id": "nPwyDF9jbCrl"
      },
      "source": [
        "# label 9, id 8"
      ]
    },
    {
      "cell_type": "code",
      "metadata": {
        "colab": {
          "base_uri": "https://localhost:8080/"
        },
        "id": "MV2_c6qOZ-s3",
        "outputId": "ce104a61-8a83-4fa3-fe2f-1d1270b911fe"
      },
      "source": [
        "params = {'n_estimators':[200,250,300],'max_depth':[20,35,40,50,70]}\n",
        "rf = RandomForestClassifier(random_state=42)\n",
        "rf_grid = GridSearchCV(estimator=rf, param_grid=params, cv=3, n_jobs=-1)\n",
        "rf_grid.fit(x_train,y_train.iloc[:,8]) # change this for different label\n",
        "print(rf_grid.best_params_)\n",
        "pred8 = rf_grid.predict_proba(x_test.values.tolist())\n",
        "pred_8 = [row[1] for row in pred8]\n",
        "print(roc_auc_score(y_test.iloc[:,8],pred_8)) # change this for different label\n",
        "p8 = rf_grid.predict(x_test.values)\n",
        "print(accuracy_score(y_test.iloc[:,8], p8))  # change this for different label"
      ],
      "execution_count": 293,
      "outputs": [
        {
          "output_type": "stream",
          "text": [
            "{'max_depth': 35, 'n_estimators': 200}\n",
            "0.9769881719329595\n",
            "0.9682054134223211\n"
          ],
          "name": "stdout"
        }
      ]
    },
    {
      "cell_type": "markdown",
      "metadata": {
        "id": "mzYyZy8TbM95"
      },
      "source": [
        "# label 10, id9"
      ]
    },
    {
      "cell_type": "code",
      "metadata": {
        "colab": {
          "base_uri": "https://localhost:8080/"
        },
        "id": "YfNCGEd8Z-vq",
        "outputId": "e0763d2d-77f9-4b3f-98f8-09383e75137f"
      },
      "source": [
        "params = {'n_estimators':[200,250,300],'max_depth':[20,35,40,50,70]}\n",
        "rf = RandomForestClassifier(random_state=42)\n",
        "rf_grid = GridSearchCV(estimator=rf, param_grid=params, cv=3, n_jobs=-1)\n",
        "rf_grid.fit(x_train,y_train.iloc[:,9]) # change this for different label\n",
        "print(rf_grid.best_params_)\n",
        "pred9 = rf_grid.predict_proba(x_test.values.tolist())\n",
        "pred_9 = [row[1] for row in pred9]\n",
        "print(roc_auc_score(y_test.iloc[:,9],pred_9)) # change this for different label\n",
        "p9 = rf_grid.predict(x_test.values)\n",
        "print(accuracy_score(y_test.iloc[:,9], p9))  # change this for different label"
      ],
      "execution_count": 294,
      "outputs": [
        {
          "output_type": "stream",
          "text": [
            "{'max_depth': 35, 'n_estimators': 300}\n",
            "0.9792521827344665\n",
            "0.96403411197627\n"
          ],
          "name": "stdout"
        }
      ]
    },
    {
      "cell_type": "markdown",
      "metadata": {
        "id": "9MO--Cadb23N"
      },
      "source": [
        "# label 11, id10"
      ]
    },
    {
      "cell_type": "code",
      "metadata": {
        "colab": {
          "base_uri": "https://localhost:8080/"
        },
        "id": "ruKUVLJxZ-yF",
        "outputId": "395201cf-8f4c-499f-cbb5-a30ac9c6daad"
      },
      "source": [
        "params = {'n_estimators':[200,250,300],'max_depth':[20,35,40,50,70]}\n",
        "rf = RandomForestClassifier(random_state=42)\n",
        "rf_grid = GridSearchCV(estimator=rf, param_grid=params, cv=3, n_jobs=-1)\n",
        "rf_grid.fit(x_train,y_train.iloc[:,10]) # change this for different label\n",
        "print(rf_grid.best_params_)\n",
        "pred10 = rf_grid.predict_proba(x_test.values.tolist())\n",
        "pred_10 = [row[1] for row in pred10]\n",
        "print(roc_auc_score(y_test.iloc[:,10],pred_10)) # change this for different label\n",
        "p10 = rf_grid.predict(x_test.values)\n",
        "print(accuracy_score(y_test.iloc[:,10], p10))  # change this for different label"
      ],
      "execution_count": 295,
      "outputs": [
        {
          "output_type": "stream",
          "text": [
            "{'max_depth': 20, 'n_estimators': 300}\n",
            "0.9795081664599209\n",
            "0.9632925472747497\n"
          ],
          "name": "stdout"
        }
      ]
    },
    {
      "cell_type": "markdown",
      "metadata": {
        "id": "tW8j7Xa_cYnO"
      },
      "source": [
        "# label 12, id11\n",
        "\n",
        "\n",
        "---\n",
        "\n"
      ]
    },
    {
      "cell_type": "code",
      "metadata": {
        "colab": {
          "base_uri": "https://localhost:8080/"
        },
        "id": "BKs8bLuXZ-0o",
        "outputId": "bec3462a-1943-4ff3-9737-e7666a4ba0f8"
      },
      "source": [
        "params = {'n_estimators':[200,250,300],'max_depth':[20,35,40,50,70]}\n",
        "rf = RandomForestClassifier(random_state=42)\n",
        "rf_grid = GridSearchCV(estimator=rf, param_grid=params, cv=3, n_jobs=-1)\n",
        "rf_grid.fit(x_train,y_train.iloc[:,11]) # change this for different label\n",
        "print(rf_grid.best_params_)\n",
        "pred11 = rf_grid.predict_proba(x_test.values.tolist())\n",
        "pred_11 = [row[1] for row in pred11]\n",
        "print(roc_auc_score(y_test.iloc[:,11],pred_11)) # change this for different label\n",
        "p11 = rf_grid.predict(x_test.values)\n",
        "print(accuracy_score(y_test.iloc[:,11], p11))  # change this for different label"
      ],
      "execution_count": 296,
      "outputs": [
        {
          "output_type": "stream",
          "text": [
            "{'max_depth': 20, 'n_estimators': 300}\n",
            "0.9549572561306984\n",
            "0.946329254727475\n"
          ],
          "name": "stdout"
        }
      ]
    },
    {
      "cell_type": "markdown",
      "metadata": {
        "id": "9I3DW1s8dYyb"
      },
      "source": [
        "# label 13, id 12\n",
        "\n",
        "---\n",
        "\n"
      ]
    },
    {
      "cell_type": "code",
      "metadata": {
        "colab": {
          "base_uri": "https://localhost:8080/"
        },
        "id": "qywbn9F9dbww",
        "outputId": "49d31aba-5053-47f0-8bc4-96847288a032"
      },
      "source": [
        "params = {'n_estimators':[200,250,300],'max_depth':[20,35,40,50,70]}\n",
        "rf = RandomForestClassifier(random_state=42)\n",
        "rf_grid = GridSearchCV(estimator=rf, param_grid=params, cv=3, n_jobs=-1)\n",
        "rf_grid.fit(x_train,y_train.iloc[:,12]) # change this for different label\n",
        "print(rf_grid.best_params_)\n",
        "pred12 = rf_grid.predict_proba(x_test.values.tolist())\n",
        "pred_12 = [row[1] for row in pred12]\n",
        "print(roc_auc_score(y_test.iloc[:,12],pred_12)) # change this for different label\n",
        "p12 = rf_grid.predict(x_test.values)\n",
        "print(accuracy_score(y_test.iloc[:,12], p12))  # change this for different label"
      ],
      "execution_count": 299,
      "outputs": [
        {
          "output_type": "stream",
          "text": [
            "{'max_depth': 35, 'n_estimators': 300}\n",
            "0.9557012308879522\n",
            "0.9575454208379681\n"
          ],
          "name": "stdout"
        }
      ]
    },
    {
      "cell_type": "code",
      "metadata": {
        "id": "-_KXw_X8cbFW"
      },
      "source": [
        ""
      ],
      "execution_count": null,
      "outputs": []
    },
    {
      "cell_type": "code",
      "metadata": {
        "colab": {
          "base_uri": "https://localhost:8080/",
          "height": 402
        },
        "id": "sUxQ423EcbH1",
        "outputId": "a1351ae9-311b-4969-f141-908d3aea7c45"
      },
      "source": [
        "df=pd.DataFrame((pred_0, pred_1,pred_2,pred_3,pred_4,pred_5,pred_6,pred_7,pred_8,pred_9,pred_10,pred_11,pred_12)).T\n",
        "df"
      ],
      "execution_count": 300,
      "outputs": [
        {
          "output_type": "execute_result",
          "data": {
            "text/html": [
              "<div>\n",
              "<style scoped>\n",
              "    .dataframe tbody tr th:only-of-type {\n",
              "        vertical-align: middle;\n",
              "    }\n",
              "\n",
              "    .dataframe tbody tr th {\n",
              "        vertical-align: top;\n",
              "    }\n",
              "\n",
              "    .dataframe thead th {\n",
              "        text-align: right;\n",
              "    }\n",
              "</style>\n",
              "<table border=\"1\" class=\"dataframe\">\n",
              "  <thead>\n",
              "    <tr style=\"text-align: right;\">\n",
              "      <th></th>\n",
              "      <th>0</th>\n",
              "      <th>1</th>\n",
              "      <th>2</th>\n",
              "      <th>3</th>\n",
              "      <th>4</th>\n",
              "      <th>5</th>\n",
              "      <th>6</th>\n",
              "      <th>7</th>\n",
              "      <th>8</th>\n",
              "      <th>9</th>\n",
              "      <th>10</th>\n",
              "      <th>11</th>\n",
              "      <th>12</th>\n",
              "    </tr>\n",
              "  </thead>\n",
              "  <tbody>\n",
              "    <tr>\n",
              "      <th>0</th>\n",
              "      <td>0.016667</td>\n",
              "      <td>0.000000</td>\n",
              "      <td>0.000000</td>\n",
              "      <td>0.000000</td>\n",
              "      <td>0.000</td>\n",
              "      <td>0.000</td>\n",
              "      <td>0.005</td>\n",
              "      <td>0.003333</td>\n",
              "      <td>0.235</td>\n",
              "      <td>0.080000</td>\n",
              "      <td>0.744492</td>\n",
              "      <td>0.013452</td>\n",
              "      <td>0.010000</td>\n",
              "    </tr>\n",
              "    <tr>\n",
              "      <th>1</th>\n",
              "      <td>0.053333</td>\n",
              "      <td>0.226667</td>\n",
              "      <td>0.440741</td>\n",
              "      <td>0.040000</td>\n",
              "      <td>0.108</td>\n",
              "      <td>0.025</td>\n",
              "      <td>0.015</td>\n",
              "      <td>0.246667</td>\n",
              "      <td>0.015</td>\n",
              "      <td>0.003333</td>\n",
              "      <td>0.006667</td>\n",
              "      <td>0.006667</td>\n",
              "      <td>0.046667</td>\n",
              "    </tr>\n",
              "    <tr>\n",
              "      <th>2</th>\n",
              "      <td>0.053333</td>\n",
              "      <td>0.084444</td>\n",
              "      <td>0.100000</td>\n",
              "      <td>0.008889</td>\n",
              "      <td>0.112</td>\n",
              "      <td>0.010</td>\n",
              "      <td>0.075</td>\n",
              "      <td>0.066667</td>\n",
              "      <td>0.005</td>\n",
              "      <td>0.000000</td>\n",
              "      <td>0.000000</td>\n",
              "      <td>0.003333</td>\n",
              "      <td>0.086667</td>\n",
              "    </tr>\n",
              "    <tr>\n",
              "      <th>3</th>\n",
              "      <td>0.013333</td>\n",
              "      <td>0.017778</td>\n",
              "      <td>0.000000</td>\n",
              "      <td>0.000000</td>\n",
              "      <td>0.008</td>\n",
              "      <td>0.060</td>\n",
              "      <td>0.590</td>\n",
              "      <td>0.053333</td>\n",
              "      <td>0.000</td>\n",
              "      <td>0.000000</td>\n",
              "      <td>0.000000</td>\n",
              "      <td>0.013333</td>\n",
              "      <td>0.320000</td>\n",
              "    </tr>\n",
              "    <tr>\n",
              "      <th>4</th>\n",
              "      <td>0.366667</td>\n",
              "      <td>0.044444</td>\n",
              "      <td>0.014815</td>\n",
              "      <td>0.000000</td>\n",
              "      <td>0.048</td>\n",
              "      <td>0.140</td>\n",
              "      <td>0.350</td>\n",
              "      <td>0.023333</td>\n",
              "      <td>0.030</td>\n",
              "      <td>0.010000</td>\n",
              "      <td>0.003333</td>\n",
              "      <td>0.150000</td>\n",
              "      <td>0.120000</td>\n",
              "    </tr>\n",
              "    <tr>\n",
              "      <th>...</th>\n",
              "      <td>...</td>\n",
              "      <td>...</td>\n",
              "      <td>...</td>\n",
              "      <td>...</td>\n",
              "      <td>...</td>\n",
              "      <td>...</td>\n",
              "      <td>...</td>\n",
              "      <td>...</td>\n",
              "      <td>...</td>\n",
              "      <td>...</td>\n",
              "      <td>...</td>\n",
              "      <td>...</td>\n",
              "      <td>...</td>\n",
              "    </tr>\n",
              "    <tr>\n",
              "      <th>10783</th>\n",
              "      <td>0.010000</td>\n",
              "      <td>0.000000</td>\n",
              "      <td>0.000000</td>\n",
              "      <td>0.000000</td>\n",
              "      <td>0.000</td>\n",
              "      <td>0.010</td>\n",
              "      <td>0.095</td>\n",
              "      <td>0.000000</td>\n",
              "      <td>0.295</td>\n",
              "      <td>0.000000</td>\n",
              "      <td>0.123333</td>\n",
              "      <td>0.046162</td>\n",
              "      <td>0.036667</td>\n",
              "    </tr>\n",
              "    <tr>\n",
              "      <th>10784</th>\n",
              "      <td>0.023333</td>\n",
              "      <td>0.000000</td>\n",
              "      <td>0.000000</td>\n",
              "      <td>0.000000</td>\n",
              "      <td>0.028</td>\n",
              "      <td>0.000</td>\n",
              "      <td>0.765</td>\n",
              "      <td>0.076667</td>\n",
              "      <td>0.000</td>\n",
              "      <td>0.000000</td>\n",
              "      <td>0.000000</td>\n",
              "      <td>0.103045</td>\n",
              "      <td>0.026667</td>\n",
              "    </tr>\n",
              "    <tr>\n",
              "      <th>10785</th>\n",
              "      <td>0.106667</td>\n",
              "      <td>0.013333</td>\n",
              "      <td>0.018519</td>\n",
              "      <td>0.062222</td>\n",
              "      <td>0.172</td>\n",
              "      <td>0.000</td>\n",
              "      <td>0.005</td>\n",
              "      <td>0.070000</td>\n",
              "      <td>0.005</td>\n",
              "      <td>0.166667</td>\n",
              "      <td>0.000000</td>\n",
              "      <td>0.070114</td>\n",
              "      <td>0.036667</td>\n",
              "    </tr>\n",
              "    <tr>\n",
              "      <th>10786</th>\n",
              "      <td>0.013333</td>\n",
              "      <td>0.257778</td>\n",
              "      <td>0.174074</td>\n",
              "      <td>0.004444</td>\n",
              "      <td>0.092</td>\n",
              "      <td>0.045</td>\n",
              "      <td>0.070</td>\n",
              "      <td>0.110354</td>\n",
              "      <td>0.000</td>\n",
              "      <td>0.000000</td>\n",
              "      <td>0.000000</td>\n",
              "      <td>0.000089</td>\n",
              "      <td>0.080000</td>\n",
              "    </tr>\n",
              "    <tr>\n",
              "      <th>10787</th>\n",
              "      <td>0.206667</td>\n",
              "      <td>0.022222</td>\n",
              "      <td>0.037037</td>\n",
              "      <td>0.235556</td>\n",
              "      <td>0.404</td>\n",
              "      <td>0.000</td>\n",
              "      <td>0.000</td>\n",
              "      <td>0.120000</td>\n",
              "      <td>0.000</td>\n",
              "      <td>0.030000</td>\n",
              "      <td>0.006667</td>\n",
              "      <td>0.010000</td>\n",
              "      <td>0.003333</td>\n",
              "    </tr>\n",
              "  </tbody>\n",
              "</table>\n",
              "<p>10788 rows × 13 columns</p>\n",
              "</div>"
            ],
            "text/plain": [
              "             0         1         2   ...        10        11        12\n",
              "0      0.016667  0.000000  0.000000  ...  0.744492  0.013452  0.010000\n",
              "1      0.053333  0.226667  0.440741  ...  0.006667  0.006667  0.046667\n",
              "2      0.053333  0.084444  0.100000  ...  0.000000  0.003333  0.086667\n",
              "3      0.013333  0.017778  0.000000  ...  0.000000  0.013333  0.320000\n",
              "4      0.366667  0.044444  0.014815  ...  0.003333  0.150000  0.120000\n",
              "...         ...       ...       ...  ...       ...       ...       ...\n",
              "10783  0.010000  0.000000  0.000000  ...  0.123333  0.046162  0.036667\n",
              "10784  0.023333  0.000000  0.000000  ...  0.000000  0.103045  0.026667\n",
              "10785  0.106667  0.013333  0.018519  ...  0.000000  0.070114  0.036667\n",
              "10786  0.013333  0.257778  0.174074  ...  0.000000  0.000089  0.080000\n",
              "10787  0.206667  0.022222  0.037037  ...  0.006667  0.010000  0.003333\n",
              "\n",
              "[10788 rows x 13 columns]"
            ]
          },
          "metadata": {
            "tags": []
          },
          "execution_count": 300
        }
      ]
    },
    {
      "cell_type": "code",
      "metadata": {
        "id": "JRwCCGyXjBDb"
      },
      "source": [
        "max_pred = df.idxmax(axis=1)\n"
      ],
      "execution_count": 316,
      "outputs": []
    },
    {
      "cell_type": "code",
      "metadata": {
        "colab": {
          "base_uri": "https://localhost:8080/",
          "height": 438
        },
        "id": "_sQh5qEtfhS0",
        "outputId": "64734ac3-cc52-4c06-edb4-1908525c4aa7"
      },
      "source": [
        ""
      ],
      "execution_count": 306,
      "outputs": [
        {
          "output_type": "execute_result",
          "data": {
            "text/html": [
              "<div>\n",
              "<style scoped>\n",
              "    .dataframe tbody tr th:only-of-type {\n",
              "        vertical-align: middle;\n",
              "    }\n",
              "\n",
              "    .dataframe tbody tr th {\n",
              "        vertical-align: top;\n",
              "    }\n",
              "\n",
              "    .dataframe thead th {\n",
              "        text-align: right;\n",
              "    }\n",
              "</style>\n",
              "<table border=\"1\" class=\"dataframe\">\n",
              "  <thead>\n",
              "    <tr style=\"text-align: right;\">\n",
              "      <th></th>\n",
              "      <th>genre_Dark Trap</th>\n",
              "      <th>genre_Hiphop</th>\n",
              "      <th>genre_RnB</th>\n",
              "      <th>genre_Trap Metal</th>\n",
              "      <th>genre_Underground Rap</th>\n",
              "      <th>genre_dnb</th>\n",
              "      <th>genre_hardstyle</th>\n",
              "      <th>genre_other</th>\n",
              "      <th>genre_psytrance</th>\n",
              "      <th>genre_techhouse</th>\n",
              "      <th>genre_techno</th>\n",
              "      <th>genre_trance</th>\n",
              "      <th>genre_trap</th>\n",
              "    </tr>\n",
              "  </thead>\n",
              "  <tbody>\n",
              "    <tr>\n",
              "      <th>0</th>\n",
              "      <td>0</td>\n",
              "      <td>0</td>\n",
              "      <td>0</td>\n",
              "      <td>0</td>\n",
              "      <td>0</td>\n",
              "      <td>0</td>\n",
              "      <td>0</td>\n",
              "      <td>0</td>\n",
              "      <td>1</td>\n",
              "      <td>0</td>\n",
              "      <td>0</td>\n",
              "      <td>0</td>\n",
              "      <td>0</td>\n",
              "    </tr>\n",
              "    <tr>\n",
              "      <th>1</th>\n",
              "      <td>0</td>\n",
              "      <td>0</td>\n",
              "      <td>0</td>\n",
              "      <td>0</td>\n",
              "      <td>0</td>\n",
              "      <td>1</td>\n",
              "      <td>0</td>\n",
              "      <td>0</td>\n",
              "      <td>0</td>\n",
              "      <td>0</td>\n",
              "      <td>0</td>\n",
              "      <td>0</td>\n",
              "      <td>0</td>\n",
              "    </tr>\n",
              "    <tr>\n",
              "      <th>2</th>\n",
              "      <td>0</td>\n",
              "      <td>0</td>\n",
              "      <td>0</td>\n",
              "      <td>0</td>\n",
              "      <td>0</td>\n",
              "      <td>0</td>\n",
              "      <td>0</td>\n",
              "      <td>0</td>\n",
              "      <td>1</td>\n",
              "      <td>0</td>\n",
              "      <td>0</td>\n",
              "      <td>0</td>\n",
              "      <td>0</td>\n",
              "    </tr>\n",
              "    <tr>\n",
              "      <th>3</th>\n",
              "      <td>0</td>\n",
              "      <td>0</td>\n",
              "      <td>0</td>\n",
              "      <td>0</td>\n",
              "      <td>0</td>\n",
              "      <td>0</td>\n",
              "      <td>0</td>\n",
              "      <td>0</td>\n",
              "      <td>0</td>\n",
              "      <td>0</td>\n",
              "      <td>0</td>\n",
              "      <td>1</td>\n",
              "      <td>0</td>\n",
              "    </tr>\n",
              "    <tr>\n",
              "      <th>4</th>\n",
              "      <td>0</td>\n",
              "      <td>0</td>\n",
              "      <td>0</td>\n",
              "      <td>0</td>\n",
              "      <td>0</td>\n",
              "      <td>0</td>\n",
              "      <td>0</td>\n",
              "      <td>0</td>\n",
              "      <td>0</td>\n",
              "      <td>0</td>\n",
              "      <td>1</td>\n",
              "      <td>0</td>\n",
              "      <td>0</td>\n",
              "    </tr>\n",
              "    <tr>\n",
              "      <th>...</th>\n",
              "      <td>...</td>\n",
              "      <td>...</td>\n",
              "      <td>...</td>\n",
              "      <td>...</td>\n",
              "      <td>...</td>\n",
              "      <td>...</td>\n",
              "      <td>...</td>\n",
              "      <td>...</td>\n",
              "      <td>...</td>\n",
              "      <td>...</td>\n",
              "      <td>...</td>\n",
              "      <td>...</td>\n",
              "      <td>...</td>\n",
              "    </tr>\n",
              "    <tr>\n",
              "      <th>35954</th>\n",
              "      <td>0</td>\n",
              "      <td>0</td>\n",
              "      <td>0</td>\n",
              "      <td>0</td>\n",
              "      <td>1</td>\n",
              "      <td>0</td>\n",
              "      <td>0</td>\n",
              "      <td>0</td>\n",
              "      <td>0</td>\n",
              "      <td>0</td>\n",
              "      <td>0</td>\n",
              "      <td>0</td>\n",
              "      <td>0</td>\n",
              "    </tr>\n",
              "    <tr>\n",
              "      <th>35955</th>\n",
              "      <td>0</td>\n",
              "      <td>0</td>\n",
              "      <td>0</td>\n",
              "      <td>0</td>\n",
              "      <td>0</td>\n",
              "      <td>0</td>\n",
              "      <td>0</td>\n",
              "      <td>1</td>\n",
              "      <td>0</td>\n",
              "      <td>0</td>\n",
              "      <td>0</td>\n",
              "      <td>0</td>\n",
              "      <td>0</td>\n",
              "    </tr>\n",
              "    <tr>\n",
              "      <th>35956</th>\n",
              "      <td>0</td>\n",
              "      <td>0</td>\n",
              "      <td>1</td>\n",
              "      <td>0</td>\n",
              "      <td>0</td>\n",
              "      <td>0</td>\n",
              "      <td>0</td>\n",
              "      <td>0</td>\n",
              "      <td>0</td>\n",
              "      <td>0</td>\n",
              "      <td>0</td>\n",
              "      <td>0</td>\n",
              "      <td>0</td>\n",
              "    </tr>\n",
              "    <tr>\n",
              "      <th>35957</th>\n",
              "      <td>0</td>\n",
              "      <td>0</td>\n",
              "      <td>0</td>\n",
              "      <td>0</td>\n",
              "      <td>0</td>\n",
              "      <td>0</td>\n",
              "      <td>0</td>\n",
              "      <td>0</td>\n",
              "      <td>0</td>\n",
              "      <td>0</td>\n",
              "      <td>0</td>\n",
              "      <td>1</td>\n",
              "      <td>0</td>\n",
              "    </tr>\n",
              "    <tr>\n",
              "      <th>35958</th>\n",
              "      <td>0</td>\n",
              "      <td>0</td>\n",
              "      <td>0</td>\n",
              "      <td>0</td>\n",
              "      <td>0</td>\n",
              "      <td>0</td>\n",
              "      <td>0</td>\n",
              "      <td>1</td>\n",
              "      <td>0</td>\n",
              "      <td>0</td>\n",
              "      <td>0</td>\n",
              "      <td>0</td>\n",
              "      <td>0</td>\n",
              "    </tr>\n",
              "  </tbody>\n",
              "</table>\n",
              "<p>35959 rows × 13 columns</p>\n",
              "</div>"
            ],
            "text/plain": [
              "       genre_Dark Trap  genre_Hiphop  ...  genre_trance  genre_trap\n",
              "0                    0             0  ...             0           0\n",
              "1                    0             0  ...             0           0\n",
              "2                    0             0  ...             0           0\n",
              "3                    0             0  ...             1           0\n",
              "4                    0             0  ...             0           0\n",
              "...                ...           ...  ...           ...         ...\n",
              "35954                0             0  ...             0           0\n",
              "35955                0             0  ...             0           0\n",
              "35956                0             0  ...             0           0\n",
              "35957                0             0  ...             1           0\n",
              "35958                0             0  ...             0           0\n",
              "\n",
              "[35959 rows x 13 columns]"
            ]
          },
          "metadata": {
            "tags": []
          },
          "execution_count": 306
        }
      ]
    },
    {
      "cell_type": "code",
      "metadata": {
        "id": "CjwpIMDajBF5"
      },
      "source": [
        "y_true=[]\n",
        "for i in range(10788):\n",
        "    y_true.append( np.where(y_test.iloc[i,:]==1)[0].tolist())\n",
        "y_true"
      ],
      "execution_count": null,
      "outputs": []
    },
    {
      "cell_type": "code",
      "metadata": {
        "id": "xM60-62xf841"
      },
      "source": [
        "y_true = np.ravel(y_true)"
      ],
      "execution_count": 315,
      "outputs": []
    },
    {
      "cell_type": "code",
      "metadata": {
        "id": "eIkRKqgFjBIj"
      },
      "source": [
        "compare=[]\n",
        "for i,j in zip(y_true,max_pred):\n",
        "    compare.append(i==j)"
      ],
      "execution_count": 326,
      "outputs": []
    },
    {
      "cell_type": "code",
      "metadata": {
        "colab": {
          "base_uri": "https://localhost:8080/"
        },
        "id": "R9h6sTuojaL3",
        "outputId": "449ae0c4-b366-40b4-bfca-702ae8fa5f6b"
      },
      "source": [
        "sum(compare)/len(compare) # only 58% prediction is correct"
      ],
      "execution_count": 329,
      "outputs": [
        {
          "output_type": "execute_result",
          "data": {
            "text/plain": [
              "0.5812013348164627"
            ]
          },
          "metadata": {
            "tags": []
          },
          "execution_count": 329
        }
      ]
    },
    {
      "cell_type": "markdown",
      "metadata": {
        "id": "LEbwvl0-k5AT"
      },
      "source": [
        "# fit in test data\n",
        "\n",
        "---\n",
        "\n",
        "\n",
        "\n",
        "---\n",
        "\n"
      ]
    },
    {
      "cell_type": "code",
      "metadata": {
        "colab": {
          "base_uri": "https://localhost:8080/",
          "height": 422
        },
        "id": "a-PM3JNJn7Ad",
        "outputId": "faee9bf2-99a9-4076-d1ac-f0f8fd23c734"
      },
      "source": [
        "holdout = pd.read_csv('holdout.csv', index_col=None)\n",
        "holdout"
      ],
      "execution_count": 335,
      "outputs": [
        {
          "output_type": "execute_result",
          "data": {
            "text/html": [
              "<div>\n",
              "<style scoped>\n",
              "    .dataframe tbody tr th:only-of-type {\n",
              "        vertical-align: middle;\n",
              "    }\n",
              "\n",
              "    .dataframe tbody tr th {\n",
              "        vertical-align: top;\n",
              "    }\n",
              "\n",
              "    .dataframe thead th {\n",
              "        text-align: right;\n",
              "    }\n",
              "</style>\n",
              "<table border=\"1\" class=\"dataframe\">\n",
              "  <thead>\n",
              "    <tr style=\"text-align: right;\">\n",
              "      <th></th>\n",
              "      <th>danceability</th>\n",
              "      <th>energy</th>\n",
              "      <th>key</th>\n",
              "      <th>loudness</th>\n",
              "      <th>mode</th>\n",
              "      <th>speechiness</th>\n",
              "      <th>acousticness</th>\n",
              "      <th>instrumentalness</th>\n",
              "      <th>liveness</th>\n",
              "      <th>valence</th>\n",
              "      <th>tempo</th>\n",
              "      <th>duration_ms</th>\n",
              "      <th>time_signature</th>\n",
              "    </tr>\n",
              "  </thead>\n",
              "  <tbody>\n",
              "    <tr>\n",
              "      <th>0</th>\n",
              "      <td>0.527611</td>\n",
              "      <td>0.639747</td>\n",
              "      <td>6</td>\n",
              "      <td>-9.832047</td>\n",
              "      <td>0</td>\n",
              "      <td>0.302889</td>\n",
              "      <td>0.268550</td>\n",
              "      <td>-0.067910</td>\n",
              "      <td>0.064568</td>\n",
              "      <td>0.456700</td>\n",
              "      <td>165.476191</td>\n",
              "      <td>182691.698196</td>\n",
              "      <td>4</td>\n",
              "    </tr>\n",
              "    <tr>\n",
              "      <th>1</th>\n",
              "      <td>0.743284</td>\n",
              "      <td>0.597701</td>\n",
              "      <td>8</td>\n",
              "      <td>-4.683093</td>\n",
              "      <td>1</td>\n",
              "      <td>0.166148</td>\n",
              "      <td>0.145697</td>\n",
              "      <td>0.177511</td>\n",
              "      <td>0.070484</td>\n",
              "      <td>-0.008030</td>\n",
              "      <td>126.262520</td>\n",
              "      <td>108206.929157</td>\n",
              "      <td>4</td>\n",
              "    </tr>\n",
              "    <tr>\n",
              "      <th>2</th>\n",
              "      <td>0.395995</td>\n",
              "      <td>1.073419</td>\n",
              "      <td>6</td>\n",
              "      <td>-3.307865</td>\n",
              "      <td>1</td>\n",
              "      <td>0.233369</td>\n",
              "      <td>-0.051973</td>\n",
              "      <td>-0.015688</td>\n",
              "      <td>0.086182</td>\n",
              "      <td>0.271321</td>\n",
              "      <td>146.829815</td>\n",
              "      <td>238789.392525</td>\n",
              "      <td>4</td>\n",
              "    </tr>\n",
              "    <tr>\n",
              "      <th>3</th>\n",
              "      <td>0.522885</td>\n",
              "      <td>0.939369</td>\n",
              "      <td>9</td>\n",
              "      <td>-2.871043</td>\n",
              "      <td>0</td>\n",
              "      <td>0.343184</td>\n",
              "      <td>-0.048644</td>\n",
              "      <td>-0.208166</td>\n",
              "      <td>0.305811</td>\n",
              "      <td>0.016663</td>\n",
              "      <td>161.659269</td>\n",
              "      <td>206068.745031</td>\n",
              "      <td>4</td>\n",
              "    </tr>\n",
              "    <tr>\n",
              "      <th>4</th>\n",
              "      <td>0.665717</td>\n",
              "      <td>0.970540</td>\n",
              "      <td>7</td>\n",
              "      <td>-8.199279</td>\n",
              "      <td>1</td>\n",
              "      <td>0.131063</td>\n",
              "      <td>0.028697</td>\n",
              "      <td>0.706293</td>\n",
              "      <td>0.295040</td>\n",
              "      <td>0.209007</td>\n",
              "      <td>142.217914</td>\n",
              "      <td>436180.571507</td>\n",
              "      <td>4</td>\n",
              "    </tr>\n",
              "    <tr>\n",
              "      <th>...</th>\n",
              "      <td>...</td>\n",
              "      <td>...</td>\n",
              "      <td>...</td>\n",
              "      <td>...</td>\n",
              "      <td>...</td>\n",
              "      <td>...</td>\n",
              "      <td>...</td>\n",
              "      <td>...</td>\n",
              "      <td>...</td>\n",
              "      <td>...</td>\n",
              "      <td>...</td>\n",
              "      <td>...</td>\n",
              "      <td>...</td>\n",
              "    </tr>\n",
              "    <tr>\n",
              "      <th>6341</th>\n",
              "      <td>0.830601</td>\n",
              "      <td>0.866335</td>\n",
              "      <td>11</td>\n",
              "      <td>-7.459182</td>\n",
              "      <td>1</td>\n",
              "      <td>0.075357</td>\n",
              "      <td>0.078052</td>\n",
              "      <td>0.511796</td>\n",
              "      <td>0.399631</td>\n",
              "      <td>0.687653</td>\n",
              "      <td>133.140803</td>\n",
              "      <td>184743.094967</td>\n",
              "      <td>4</td>\n",
              "    </tr>\n",
              "    <tr>\n",
              "      <th>6342</th>\n",
              "      <td>0.847163</td>\n",
              "      <td>0.521410</td>\n",
              "      <td>10</td>\n",
              "      <td>-11.539731</td>\n",
              "      <td>0</td>\n",
              "      <td>0.059482</td>\n",
              "      <td>0.138882</td>\n",
              "      <td>0.101533</td>\n",
              "      <td>0.119176</td>\n",
              "      <td>0.692710</td>\n",
              "      <td>191.679660</td>\n",
              "      <td>207735.975033</td>\n",
              "      <td>4</td>\n",
              "    </tr>\n",
              "    <tr>\n",
              "      <th>6343</th>\n",
              "      <td>0.874368</td>\n",
              "      <td>0.510845</td>\n",
              "      <td>11</td>\n",
              "      <td>-10.558438</td>\n",
              "      <td>1</td>\n",
              "      <td>0.432477</td>\n",
              "      <td>0.035850</td>\n",
              "      <td>0.221433</td>\n",
              "      <td>0.093103</td>\n",
              "      <td>0.731300</td>\n",
              "      <td>145.098056</td>\n",
              "      <td>142934.588552</td>\n",
              "      <td>4</td>\n",
              "    </tr>\n",
              "    <tr>\n",
              "      <th>6344</th>\n",
              "      <td>0.659858</td>\n",
              "      <td>0.753805</td>\n",
              "      <td>10</td>\n",
              "      <td>-7.525075</td>\n",
              "      <td>0</td>\n",
              "      <td>0.129169</td>\n",
              "      <td>-0.000903</td>\n",
              "      <td>0.560657</td>\n",
              "      <td>0.104850</td>\n",
              "      <td>0.694151</td>\n",
              "      <td>134.790856</td>\n",
              "      <td>460943.983418</td>\n",
              "      <td>4</td>\n",
              "    </tr>\n",
              "    <tr>\n",
              "      <th>6345</th>\n",
              "      <td>0.602272</td>\n",
              "      <td>0.868012</td>\n",
              "      <td>0</td>\n",
              "      <td>-9.064269</td>\n",
              "      <td>1</td>\n",
              "      <td>0.100123</td>\n",
              "      <td>0.170231</td>\n",
              "      <td>0.751511</td>\n",
              "      <td>0.084279</td>\n",
              "      <td>0.550986</td>\n",
              "      <td>146.311213</td>\n",
              "      <td>408574.747360</td>\n",
              "      <td>4</td>\n",
              "    </tr>\n",
              "  </tbody>\n",
              "</table>\n",
              "<p>6346 rows × 13 columns</p>\n",
              "</div>"
            ],
            "text/plain": [
              "      danceability    energy  key  ...       tempo    duration_ms  time_signature\n",
              "0         0.527611  0.639747    6  ...  165.476191  182691.698196               4\n",
              "1         0.743284  0.597701    8  ...  126.262520  108206.929157               4\n",
              "2         0.395995  1.073419    6  ...  146.829815  238789.392525               4\n",
              "3         0.522885  0.939369    9  ...  161.659269  206068.745031               4\n",
              "4         0.665717  0.970540    7  ...  142.217914  436180.571507               4\n",
              "...            ...       ...  ...  ...         ...            ...             ...\n",
              "6341      0.830601  0.866335   11  ...  133.140803  184743.094967               4\n",
              "6342      0.847163  0.521410   10  ...  191.679660  207735.975033               4\n",
              "6343      0.874368  0.510845   11  ...  145.098056  142934.588552               4\n",
              "6344      0.659858  0.753805   10  ...  134.790856  460943.983418               4\n",
              "6345      0.602272  0.868012    0  ...  146.311213  408574.747360               4\n",
              "\n",
              "[6346 rows x 13 columns]"
            ]
          },
          "metadata": {
            "tags": []
          },
          "execution_count": 335
        }
      ]
    },
    {
      "cell_type": "code",
      "metadata": {
        "id": "ildk84Bjk9W7"
      },
      "source": [
        "rf ={}\n",
        "prediction_dict={}\n",
        "est = [300,225,270,225,250,200,200,300,200,300,300,300,300]\n",
        "dep = [45,30,45,45,30,20,35,35,35,35,20,20,35]\n",
        "# 13 classifiers for each category\n",
        "for i,(e, d) in enumerate(zip(est,dep)):\n",
        "    rf[i] = RandomForestClassifier(n_estimators=e, max_depth=d)\n",
        "    rf[i].fit(x,yy.iloc[:,i])\n",
        "    pred_prob = rf[i].predict_proba(holdout.values)\n",
        "    prediction_dict[i] = [row[1] for row in pred_prob]"
      ],
      "execution_count": 337,
      "outputs": []
    },
    {
      "cell_type": "code",
      "metadata": {
        "id": "SglbDmHZk9cX"
      },
      "source": [
        "df_pred = pd.DataFrame(prediction_dict)"
      ],
      "execution_count": 339,
      "outputs": []
    },
    {
      "cell_type": "code",
      "metadata": {
        "id": "Mp1v0svVk9ex"
      },
      "source": [
        "df_pred.to_csv('df_pred_holdout.csv')"
      ],
      "execution_count": 343,
      "outputs": []
    },
    {
      "cell_type": "code",
      "metadata": {
        "colab": {
          "base_uri": "https://localhost:8080/"
        },
        "id": "c9p9-Kccp9Hj",
        "outputId": "9349aed7-d8f0-4360-9362-dedd30876e2a"
      },
      "source": [
        "df_pred.idxmax(axis=1)"
      ],
      "execution_count": 341,
      "outputs": [
        {
          "output_type": "execute_result",
          "data": {
            "text/plain": [
              "0       4\n",
              "1       4\n",
              "2       6\n",
              "3       6\n",
              "4       8\n",
              "       ..\n",
              "6341    9\n",
              "6342    1\n",
              "6343    4\n",
              "6344    8\n",
              "6345    8\n",
              "Length: 6346, dtype: int64"
            ]
          },
          "metadata": {
            "tags": []
          },
          "execution_count": 341
        }
      ]
    },
    {
      "cell_type": "code",
      "metadata": {
        "colab": {
          "base_uri": "https://localhost:8080/"
        },
        "id": "wHepojMVvSJy",
        "outputId": "31c20005-588f-491b-f766-72ad6b22923c"
      },
      "source": [
        "y_test.columns"
      ],
      "execution_count": 344,
      "outputs": [
        {
          "output_type": "execute_result",
          "data": {
            "text/plain": [
              "Index(['genre_Dark_Trap', 'genre_Hiphop', 'genre_RnB', 'genre_Trap_Metal',\n",
              "       'genre_Underground_Rap', 'genre_dnb', 'genre_hardstyle', 'genre_other',\n",
              "       'genre_psytrance', 'genre_techhouse', 'genre_techno', 'genre_trance',\n",
              "       'genre_trap'],\n",
              "      dtype='object')"
            ]
          },
          "metadata": {
            "tags": []
          },
          "execution_count": 344
        }
      ]
    },
    {
      "cell_type": "markdown",
      "metadata": {
        "id": "FMhEXriNi75D"
      },
      "source": [
        "# not working\n",
        "\n",
        "---\n",
        "\n"
      ]
    },
    {
      "cell_type": "code",
      "metadata": {
        "id": "q89ftLX5EqnJ"
      },
      "source": [
        "import numpy as np\n"
      ],
      "execution_count": 193,
      "outputs": []
    },
    {
      "cell_type": "code",
      "metadata": {
        "id": "XRqeypWbEqp4"
      },
      "source": [
        "#y_v =np.asmatrix(y_train.values) \n",
        "#from scipy.sparse import lil_matrix\n",
        "#y_train_dense = lil_matrix(y_v)\n",
        "#x_train_dense = lil_matrix(np.asmatrix(x_train.values) )"
      ],
      "execution_count": null,
      "outputs": []
    },
    {
      "cell_type": "code",
      "metadata": {
        "id": "FrYlcmZicHCh"
      },
      "source": [
        "'''parameters = [\n",
        "    {\n",
        "        'classifier': [rf(max_depth=4)],\n",
        "        'classifier__n_estimators': [250,300],\n",
        "        'classifier__max_depth': [4]\n",
        "        \n",
        "    }\n",
        "]\n",
        "\n",
        "clf = GridSearchCV(BinaryRelevance(), parameters, scoring='roc_auc', n_jobs=-1,cv=4)\n",
        "'''\n"
      ],
      "execution_count": null,
      "outputs": []
    },
    {
      "cell_type": "code",
      "metadata": {
        "id": "b0Iw4RgAWL1t"
      },
      "source": [
        ""
      ],
      "execution_count": null,
      "outputs": []
    },
    {
      "cell_type": "code",
      "metadata": {
        "id": "GUR1Zxk324wa"
      },
      "source": [
        "'''clf.fit(x_train_dense, y_train_dense)\n",
        "\n",
        "print(clf.best_params_, clf.best_score_)"
      ],
      "execution_count": null,
      "outputs": []
    },
    {
      "cell_type": "code",
      "metadata": {
        "id": "odFhqKDrXnZo"
      },
      "source": [
        ""
      ],
      "execution_count": null,
      "outputs": []
    },
    {
      "cell_type": "code",
      "metadata": {
        "id": "3ZNcWgkKXneR"
      },
      "source": [
        ""
      ],
      "execution_count": null,
      "outputs": []
    },
    {
      "cell_type": "code",
      "metadata": {
        "id": "qDBPtL8CXnhl"
      },
      "source": [
        ""
      ],
      "execution_count": null,
      "outputs": []
    },
    {
      "cell_type": "code",
      "metadata": {
        "id": "RQP1Hpls247m"
      },
      "source": [
        "#from sklearn.multioutput import MultiOutputClassifier"
      ],
      "execution_count": 194,
      "outputs": []
    },
    {
      "cell_type": "code",
      "metadata": {
        "colab": {
          "base_uri": "https://localhost:8080/"
        },
        "id": "arBmvJcr24-l",
        "outputId": "86a798fa-5524-4beb-bf73-aff17f275654"
      },
      "source": [
        "#parameters ={'estimator__n_estimators':[250,280],\"estimator__max_depth\":[4,8]}\n",
        "#clf = GridSearchCV(MultiOutputClassifier(rf()), param_grid = parameters, scoring='roc_auc',cv=4, n_jobs=-1)\n",
        "\n",
        "#clf.fit(x, yy)"
      ],
      "execution_count": null,
      "outputs": [
        {
          "output_type": "execute_result",
          "data": {
            "text/plain": [
              "GridSearchCV(cv=4, error_score=nan,\n",
              "             estimator=MultiOutputClassifier(estimator=RandomForestClassifier(bootstrap=True,\n",
              "                                                                              ccp_alpha=0.0,\n",
              "                                                                              class_weight=None,\n",
              "                                                                              criterion='gini',\n",
              "                                                                              max_depth=None,\n",
              "                                                                              max_features='auto',\n",
              "                                                                              max_leaf_nodes=None,\n",
              "                                                                              max_samples=None,\n",
              "                                                                              min_impurity_decrease=0.0,\n",
              "                                                                              min_impurity_split=None,\n",
              "                                                                              min_samples_leaf=1,\n",
              "                                                                              min_samples_split=2,\n",
              "                                                                              min_weight_fraction_leaf=0.0,\n",
              "                                                                              n_estimators=100,\n",
              "                                                                              n_jobs=None,\n",
              "                                                                              oob_score=False,\n",
              "                                                                              random_state=None,\n",
              "                                                                              verbose=0,\n",
              "                                                                              warm_start=False),\n",
              "                                             n_jobs=None),\n",
              "             iid='deprecated', n_jobs=-1,\n",
              "             param_grid={'estimator__max_depth': [4, 8],\n",
              "                         'estimator__n_estimators': [250, 280]},\n",
              "             pre_dispatch='2*n_jobs', refit=True, return_train_score=False,\n",
              "             scoring='roc_auc', verbose=0)"
            ]
          },
          "metadata": {
            "tags": []
          },
          "execution_count": 17
        }
      ]
    },
    {
      "cell_type": "code",
      "metadata": {
        "colab": {
          "base_uri": "https://localhost:8080/"
        },
        "id": "SP0qKAFI25BA",
        "outputId": "dec7e089-34f9-4dbf-d1c0-2b9d7ab22a7a"
      },
      "source": [
        "#print (clf.best_params_, clf.best_score_)"
      ],
      "execution_count": null,
      "outputs": [
        {
          "output_type": "stream",
          "text": [
            "{'estimator__max_depth': 8, 'estimator__n_estimators': 280} 0.9212370689237094\n"
          ],
          "name": "stdout"
        }
      ]
    },
    {
      "cell_type": "code",
      "metadata": {
        "id": "aPkIcqY1eRN2"
      },
      "source": [
        "pred = clf.predict_proba(x[1:2])\n"
      ],
      "execution_count": null,
      "outputs": []
    },
    {
      "cell_type": "code",
      "metadata": {
        "id": "BPAV_guPXoTk"
      },
      "source": [
        ""
      ],
      "execution_count": null,
      "outputs": []
    },
    {
      "cell_type": "code",
      "metadata": {
        "id": "F5m8XP3FXoWU"
      },
      "source": [
        "from sklearn.multioutput import MultiOutputClassifier\n",
        "from sklearn.metrics import roc_auc_score\n",
        "\n",
        "fit = MultiOutputClassifier(rf(n_estimators=280, n_jobs=-1 )).fit(x_train,y_train)\n",
        "y_pred=fit.predict_proba(x_test)\n"
      ],
      "execution_count": null,
      "outputs": []
    },
    {
      "cell_type": "code",
      "metadata": {
        "id": "uupt4N_ojRRp"
      },
      "source": [
        "data={}\n",
        "for i in range(13):\n",
        "    data[i]=np.concatenate( y_pred[i], axis=0 )"
      ],
      "execution_count": null,
      "outputs": []
    },
    {
      "cell_type": "code",
      "metadata": {
        "colab": {
          "base_uri": "https://localhost:8080/"
        },
        "id": "sEAJfvX0owLz",
        "outputId": "da589784-7144-4d11-b431-f58762148511"
      },
      "source": [
        "np.concatenate( y_pred[1], axis=0)"
      ],
      "execution_count": null,
      "outputs": [
        {
          "output_type": "execute_result",
          "data": {
            "text/plain": [
              "array([1.        , 0.        , 0.72142857, ..., 0.26428571, 0.96785714,\n",
              "       0.03214286])"
            ]
          },
          "metadata": {
            "tags": []
          },
          "execution_count": 178
        }
      ]
    },
    {
      "cell_type": "code",
      "metadata": {
        "colab": {
          "base_uri": "https://localhost:8080/"
        },
        "id": "K6JOp8vLpmwB",
        "outputId": "6e912ffc-a4a5-426f-89eb-87899f60d6c1"
      },
      "source": [
        "a = np.array([[1, 2], [3, 4]])\n",
        "np.asmatrix(a)"
      ],
      "execution_count": null,
      "outputs": [
        {
          "output_type": "execute_result",
          "data": {
            "text/plain": [
              "matrix([[1, 2],\n",
              "        [3, 4]])"
            ]
          },
          "metadata": {
            "tags": []
          },
          "execution_count": 182
        }
      ]
    },
    {
      "cell_type": "code",
      "metadata": {
        "colab": {
          "base_uri": "https://localhost:8080/"
        },
        "id": "0EL3m3lXmS-S",
        "outputId": "98f13f46-2872-4405-f8c9-484b79d9c3eb"
      },
      "source": [
        "[elem[0] for elem in data.values()]"
      ],
      "execution_count": null,
      "outputs": [
        {
          "output_type": "execute_result",
          "data": {
            "text/plain": [
              "[0.9714285714285714,\n",
              " 1.0,\n",
              " 1.0,\n",
              " 1.0,\n",
              " 0.9964285714285714,\n",
              " 1.0,\n",
              " 0.9821428571428571,\n",
              " 1.0,\n",
              " 0.7392857142857143,\n",
              " 0.8928571428571429,\n",
              " 0.2785714285714286,\n",
              " 0.975,\n",
              " 0.9964285714285714]"
            ]
          },
          "metadata": {
            "tags": []
          },
          "execution_count": 173
        }
      ]
    },
    {
      "cell_type": "code",
      "metadata": {
        "colab": {
          "base_uri": "https://localhost:8080/",
          "height": 438
        },
        "id": "D0767P6FlyH5",
        "outputId": "eecb649f-3cf9-45be-ff0d-c7ccd951d696"
      },
      "source": [
        "y_test"
      ],
      "execution_count": null,
      "outputs": [
        {
          "output_type": "execute_result",
          "data": {
            "text/html": [
              "<div>\n",
              "<style scoped>\n",
              "    .dataframe tbody tr th:only-of-type {\n",
              "        vertical-align: middle;\n",
              "    }\n",
              "\n",
              "    .dataframe tbody tr th {\n",
              "        vertical-align: top;\n",
              "    }\n",
              "\n",
              "    .dataframe thead th {\n",
              "        text-align: right;\n",
              "    }\n",
              "</style>\n",
              "<table border=\"1\" class=\"dataframe\">\n",
              "  <thead>\n",
              "    <tr style=\"text-align: right;\">\n",
              "      <th></th>\n",
              "      <th>genre_Dark Trap</th>\n",
              "      <th>genre_Hiphop</th>\n",
              "      <th>genre_RnB</th>\n",
              "      <th>genre_Trap Metal</th>\n",
              "      <th>genre_Underground Rap</th>\n",
              "      <th>genre_dnb</th>\n",
              "      <th>genre_hardstyle</th>\n",
              "      <th>genre_other</th>\n",
              "      <th>genre_psytrance</th>\n",
              "      <th>genre_techhouse</th>\n",
              "      <th>genre_techno</th>\n",
              "      <th>genre_trance</th>\n",
              "      <th>genre_trap</th>\n",
              "    </tr>\n",
              "  </thead>\n",
              "  <tbody>\n",
              "    <tr>\n",
              "      <th>27297</th>\n",
              "      <td>0</td>\n",
              "      <td>0</td>\n",
              "      <td>0</td>\n",
              "      <td>0</td>\n",
              "      <td>0</td>\n",
              "      <td>0</td>\n",
              "      <td>0</td>\n",
              "      <td>0</td>\n",
              "      <td>0</td>\n",
              "      <td>0</td>\n",
              "      <td>1</td>\n",
              "      <td>0</td>\n",
              "      <td>0</td>\n",
              "    </tr>\n",
              "    <tr>\n",
              "      <th>2969</th>\n",
              "      <td>0</td>\n",
              "      <td>0</td>\n",
              "      <td>1</td>\n",
              "      <td>0</td>\n",
              "      <td>0</td>\n",
              "      <td>0</td>\n",
              "      <td>0</td>\n",
              "      <td>0</td>\n",
              "      <td>0</td>\n",
              "      <td>0</td>\n",
              "      <td>0</td>\n",
              "      <td>0</td>\n",
              "      <td>0</td>\n",
              "    </tr>\n",
              "    <tr>\n",
              "      <th>3578</th>\n",
              "      <td>0</td>\n",
              "      <td>0</td>\n",
              "      <td>0</td>\n",
              "      <td>0</td>\n",
              "      <td>0</td>\n",
              "      <td>0</td>\n",
              "      <td>1</td>\n",
              "      <td>0</td>\n",
              "      <td>0</td>\n",
              "      <td>0</td>\n",
              "      <td>0</td>\n",
              "      <td>0</td>\n",
              "      <td>0</td>\n",
              "    </tr>\n",
              "    <tr>\n",
              "      <th>35496</th>\n",
              "      <td>0</td>\n",
              "      <td>0</td>\n",
              "      <td>0</td>\n",
              "      <td>0</td>\n",
              "      <td>0</td>\n",
              "      <td>0</td>\n",
              "      <td>1</td>\n",
              "      <td>0</td>\n",
              "      <td>0</td>\n",
              "      <td>0</td>\n",
              "      <td>0</td>\n",
              "      <td>0</td>\n",
              "      <td>0</td>\n",
              "    </tr>\n",
              "    <tr>\n",
              "      <th>7708</th>\n",
              "      <td>1</td>\n",
              "      <td>0</td>\n",
              "      <td>0</td>\n",
              "      <td>0</td>\n",
              "      <td>0</td>\n",
              "      <td>0</td>\n",
              "      <td>0</td>\n",
              "      <td>0</td>\n",
              "      <td>0</td>\n",
              "      <td>0</td>\n",
              "      <td>0</td>\n",
              "      <td>0</td>\n",
              "      <td>0</td>\n",
              "    </tr>\n",
              "    <tr>\n",
              "      <th>...</th>\n",
              "      <td>...</td>\n",
              "      <td>...</td>\n",
              "      <td>...</td>\n",
              "      <td>...</td>\n",
              "      <td>...</td>\n",
              "      <td>...</td>\n",
              "      <td>...</td>\n",
              "      <td>...</td>\n",
              "      <td>...</td>\n",
              "      <td>...</td>\n",
              "      <td>...</td>\n",
              "      <td>...</td>\n",
              "      <td>...</td>\n",
              "    </tr>\n",
              "    <tr>\n",
              "      <th>27316</th>\n",
              "      <td>0</td>\n",
              "      <td>0</td>\n",
              "      <td>0</td>\n",
              "      <td>0</td>\n",
              "      <td>0</td>\n",
              "      <td>0</td>\n",
              "      <td>0</td>\n",
              "      <td>0</td>\n",
              "      <td>0</td>\n",
              "      <td>0</td>\n",
              "      <td>0</td>\n",
              "      <td>1</td>\n",
              "      <td>0</td>\n",
              "    </tr>\n",
              "    <tr>\n",
              "      <th>27917</th>\n",
              "      <td>0</td>\n",
              "      <td>0</td>\n",
              "      <td>0</td>\n",
              "      <td>0</td>\n",
              "      <td>0</td>\n",
              "      <td>0</td>\n",
              "      <td>1</td>\n",
              "      <td>0</td>\n",
              "      <td>0</td>\n",
              "      <td>0</td>\n",
              "      <td>0</td>\n",
              "      <td>0</td>\n",
              "      <td>0</td>\n",
              "    </tr>\n",
              "    <tr>\n",
              "      <th>28882</th>\n",
              "      <td>0</td>\n",
              "      <td>0</td>\n",
              "      <td>0</td>\n",
              "      <td>0</td>\n",
              "      <td>0</td>\n",
              "      <td>0</td>\n",
              "      <td>0</td>\n",
              "      <td>0</td>\n",
              "      <td>0</td>\n",
              "      <td>1</td>\n",
              "      <td>0</td>\n",
              "      <td>0</td>\n",
              "      <td>0</td>\n",
              "    </tr>\n",
              "    <tr>\n",
              "      <th>31014</th>\n",
              "      <td>0</td>\n",
              "      <td>0</td>\n",
              "      <td>0</td>\n",
              "      <td>0</td>\n",
              "      <td>0</td>\n",
              "      <td>0</td>\n",
              "      <td>0</td>\n",
              "      <td>1</td>\n",
              "      <td>0</td>\n",
              "      <td>0</td>\n",
              "      <td>0</td>\n",
              "      <td>0</td>\n",
              "      <td>0</td>\n",
              "    </tr>\n",
              "    <tr>\n",
              "      <th>10122</th>\n",
              "      <td>0</td>\n",
              "      <td>0</td>\n",
              "      <td>0</td>\n",
              "      <td>0</td>\n",
              "      <td>1</td>\n",
              "      <td>0</td>\n",
              "      <td>0</td>\n",
              "      <td>0</td>\n",
              "      <td>0</td>\n",
              "      <td>0</td>\n",
              "      <td>0</td>\n",
              "      <td>0</td>\n",
              "      <td>0</td>\n",
              "    </tr>\n",
              "  </tbody>\n",
              "</table>\n",
              "<p>10788 rows × 13 columns</p>\n",
              "</div>"
            ],
            "text/plain": [
              "       genre_Dark Trap  genre_Hiphop  ...  genre_trance  genre_trap\n",
              "27297                0             0  ...             0           0\n",
              "2969                 0             0  ...             0           0\n",
              "3578                 0             0  ...             0           0\n",
              "35496                0             0  ...             0           0\n",
              "7708                 1             0  ...             0           0\n",
              "...                ...           ...  ...           ...         ...\n",
              "27316                0             0  ...             1           0\n",
              "27917                0             0  ...             0           0\n",
              "28882                0             0  ...             0           0\n",
              "31014                0             0  ...             0           0\n",
              "10122                0             0  ...             0           0\n",
              "\n",
              "[10788 rows x 13 columns]"
            ]
          },
          "metadata": {
            "tags": []
          },
          "execution_count": 149
        }
      ]
    },
    {
      "cell_type": "code",
      "metadata": {
        "colab": {
          "base_uri": "https://localhost:8080/",
          "height": 196
        },
        "id": "tyDlsrfxXobd",
        "outputId": "a7de3d20-0aa3-484d-de28-7ffebd585063"
      },
      "source": [
        "pred_lb =[]\n",
        "for i in range(y_pred.shape[0]):\n",
        "    pred_lb.append(max(y_pred[i,:]))"
      ],
      "execution_count": null,
      "outputs": [
        {
          "output_type": "error",
          "ename": "AttributeError",
          "evalue": "ignored",
          "traceback": [
            "\u001b[0;31m---------------------------------------------------------------------------\u001b[0m",
            "\u001b[0;31mAttributeError\u001b[0m                            Traceback (most recent call last)",
            "\u001b[0;32m<ipython-input-132-e8227e4547c8>\u001b[0m in \u001b[0;36m<module>\u001b[0;34m()\u001b[0m\n\u001b[1;32m      1\u001b[0m \u001b[0mpred_lb\u001b[0m \u001b[0;34m=\u001b[0m\u001b[0;34m[\u001b[0m\u001b[0;34m]\u001b[0m\u001b[0;34m\u001b[0m\u001b[0;34m\u001b[0m\u001b[0m\n\u001b[0;32m----> 2\u001b[0;31m \u001b[0;32mfor\u001b[0m \u001b[0mi\u001b[0m \u001b[0;32min\u001b[0m \u001b[0mrange\u001b[0m\u001b[0;34m(\u001b[0m\u001b[0my_pred\u001b[0m\u001b[0;34m.\u001b[0m\u001b[0mshape\u001b[0m\u001b[0;34m[\u001b[0m\u001b[0;36m0\u001b[0m\u001b[0;34m]\u001b[0m\u001b[0;34m)\u001b[0m\u001b[0;34m:\u001b[0m\u001b[0;34m\u001b[0m\u001b[0;34m\u001b[0m\u001b[0m\n\u001b[0m\u001b[1;32m      3\u001b[0m     \u001b[0mpred_lb\u001b[0m\u001b[0;34m.\u001b[0m\u001b[0mappend\u001b[0m\u001b[0;34m(\u001b[0m\u001b[0mmax\u001b[0m\u001b[0;34m(\u001b[0m\u001b[0my_pred\u001b[0m\u001b[0;34m[\u001b[0m\u001b[0mi\u001b[0m\u001b[0;34m,\u001b[0m\u001b[0;34m:\u001b[0m\u001b[0;34m]\u001b[0m\u001b[0;34m)\u001b[0m\u001b[0;34m)\u001b[0m\u001b[0;34m\u001b[0m\u001b[0;34m\u001b[0m\u001b[0m\n",
            "\u001b[0;31mAttributeError\u001b[0m: 'list' object has no attribute 'shape'"
          ]
        }
      ]
    },
    {
      "cell_type": "code",
      "metadata": {
        "id": "DqbDjSC9glCT"
      },
      "source": [
        "pred_lb"
      ],
      "execution_count": null,
      "outputs": []
    },
    {
      "cell_type": "code",
      "metadata": {
        "id": "xyxIbiwCXoel"
      },
      "source": [
        ""
      ],
      "execution_count": null,
      "outputs": []
    }
  ]
}